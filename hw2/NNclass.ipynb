{
 "cells": [
  {
   "cell_type": "code",
   "execution_count": 1,
   "metadata": {},
   "outputs": [
    {
     "name": "stdout",
     "output_type": "stream",
     "text": [
      "x test data : \n",
      "float32\n",
      " y test data : \n",
      " (100, 2)\n",
      "\n"
     ]
    }
   ],
   "source": [
    "import numpy as np\n",
    "import numpy.random as rd\n",
    "import sys\n",
    "import matplotlib.pyplot as plt\n",
    "import time\n",
    "\n",
    "rd.seed(7777)\n",
    "\n",
    "dataset_num = 2000\n",
    "variance = 0.4\n",
    "wtflag = 0\n",
    "file_exist = False\n",
    "\n",
    "\n",
    "'''dataset_num = 100\n",
    "variance = 0.5\n",
    "wtflag = 0\n",
    "learning_rate = 0.2\n",
    "file_exist = False\n",
    "\n",
    "epochs = 500  -> 75%\n",
    "[[3, 'True', 'relu'],[50, 'True', 'relu'], [50, 'True', 'relu'], [2, 'False', 'sigmoid']]\n",
    "\n",
    "\n",
    "dataset_num = 80\n",
    "variance = 0.5\n",
    "wtflag = 0\n",
    "learning_rate = 0.5\n",
    "file_exist = False\n",
    "\n",
    "epochs = 1200\n",
    "test = NN(t_x_data, t_y_data, test_x_data, test_y_data, [[2, 'True', 'relu'],[30, 'True', 'relu'],[30, 'True', 'relu'], [30, 'True', 'relu'], [1, 'False', 'sigmoid']], learning_rate=learning_rate)\n",
    "'''\n",
    "\n",
    "\n",
    "# making dataset\n",
    "def making_data_set(d_num):\n",
    "    d_set = np.empty(1)\n",
    "    if file_exist:\n",
    "        tmp = np.load(sys.argv[1])\n",
    "        d_set = np.append(d_set, tmp)\n",
    "    else:\n",
    "        for i in range(int(d_num)):\n",
    "            b0 = int(rd.randint(0, 2, 1))\n",
    "            b1 = int(rd.randint(0, 2, 1))\n",
    "            b2 = int(rd.randint(0, 2, 1))\n",
    "            \n",
    "            x = rd.normal(b0*2 - 1, variance)\n",
    "            y = rd.normal(b1*2 -1, variance)\n",
    "            z = rd.normal(b2*2-1, variance)\n",
    "            \n",
    "            result = b0 + b1 + b2\n",
    "            \n",
    "            rb0 = result % 2\n",
    "            rb1 = int(result/2) % 2\n",
    "            d_set = np.append(d_set, [[x, y, z, rb0, rb1]])\n",
    "            '''x = rd.randint(0, 2, 1)\n",
    "            y = rd.randint(0, 2, 1)\n",
    "            rst = x | y\n",
    "            \n",
    "            d_set = np.append(d_set, [x, y, rst])'''\n",
    "    d_set = np.delete(d_set, 0, axis=0)\n",
    "    d_set = d_set.reshape(-1, 5)\n",
    "    #d_set = d_set.reshape(-1, 3)\n",
    "    return d_set\n",
    "t_data = making_data_set(dataset_num).astype(np.float32)\n",
    "t_x_data = t_data[:, 0:-2]\n",
    "t_y_data = t_data[:, -2:].reshape(-1, 2)\n",
    "\n",
    "test_data = making_data_set(100).astype(np.float32)\n",
    "test_x_data = test_data[:, 0:-2]\n",
    "test_y_data = test_data[:, -2:].reshape(-1, 2)\n",
    "\n",
    "'''t_data = making_data_set()\n",
    "t_x_data = t_data[:, 0:-1]\n",
    "t_y_data = t_data[:, -1].reshape(-1, 1)\n",
    "\n",
    "test_data = making_data_set()\n",
    "test_x_data = t_data[:, 0:-1]\n",
    "test_y_data = t_data[:, -1].reshape(-1, 1)'''\n",
    "\n",
    "\n",
    "print(f\"x test data : \\n{test_x_data.dtype}\\n y test data : \\n {test_y_data.shape}\\n\")\n",
    "\n",
    "def sigmoid(x):\n",
    "    return 1 / (1 + np.exp(-x))\n",
    "\n",
    "\n",
    "class layer_class:\n",
    "    def sigmoid(self, a):\n",
    "        return 1/(1 + np.exp(-a)) \n",
    "    def relu(self, b):\n",
    "        return np.where(b < 0, 0, b)\n",
    "    def dsigmoid(self, a):\n",
    "        return a * (1 - a)\n",
    "    def drelu(self, a):\n",
    "        return np.where( a<0, 0, 1)\n",
    "\n",
    "    \n",
    "    w = np.array([]); bias = 'False'; ftn = sigmoid; dftn = dsigmoid; b = np.array([]);  dataflow = np.array([]);  delta = np.array([])\n",
    "    def __init__(self, w, bias='False', activation = 'sigmoid'):\n",
    "        self.w = w\n",
    "        if bias == 'True':\n",
    "            self.bias = 'True'\n",
    "            self.b = np.zeros((1, w.shape[1]))\n",
    "        else:\n",
    "            self.bias = 'False'\n",
    "        if activation == 'sigmoid':\n",
    "            self.ftn = self.sigmoid\n",
    "            self.dftn = self.dsigmoid\n",
    "        elif activation == 'relu':\n",
    "            self.ftn = self.relu\n",
    "            self.dftn = self.drelu\n",
    "\n",
    "\n",
    "\n",
    "\n",
    "\n"
   ]
  },
  {
   "cell_type": "code",
   "execution_count": 2,
   "metadata": {},
   "outputs": [],
   "source": [
    "epochs = 1000\n",
    "batch = 5\n",
    "learning_rate = 0.005\n",
    "end_learning_rate = 0.005\n",
    "result_mean = 0.5\n"
   ]
  },
  {
   "cell_type": "code",
   "execution_count": null,
   "metadata": {
    "scrolled": true
   },
   "outputs": [
    {
     "name": "stdout",
     "output_type": "stream",
     "text": [
      "epochs : 0\t train_loss :0.7435\t test_loss :0.2766\t train_accuracy :54.1%\t test_accuracy :51.0%\n",
      "epochs : 50\t train_loss :0.3689\t test_loss :0.1356\t train_accuracy :84.2%\t test_accuracy :78.5%\n",
      "epochs : 100\t train_loss :0.2745\t test_loss :0.1047\t train_accuracy :89.5%\t test_accuracy :87.0%\n",
      "epochs : 150\t train_loss :0.218\t test_loss :0.08204\t train_accuracy :93.4%\t test_accuracy :94.0%\n",
      "epochs : 200\t train_loss :0.1718\t test_loss :0.06143\t train_accuracy :95.9%\t test_accuracy :95.5%\n",
      "epochs : 250\t train_loss :0.135\t test_loss :0.04681\t train_accuracy :96.8%\t test_accuracy :95.0%\n",
      "epochs : 300\t train_loss :0.1078\t test_loss :0.03783\t train_accuracy :97.8%\t test_accuracy :96.5%\n",
      "epochs : 350\t train_loss :0.08751\t test_loss :0.03166\t train_accuracy :98.6%\t test_accuracy :97.0%\n",
      "epochs : 400\t train_loss :0.07449\t test_loss :0.0273\t train_accuracy :98.9%\t test_accuracy :97.0%\n",
      "epochs : 450\t train_loss :0.06581\t test_loss :0.02441\t train_accuracy :98.8%\t test_accuracy :97.0%\n",
      "epochs : 500\t train_loss :0.05968\t test_loss :0.02228\t train_accuracy :99.0%\t test_accuracy :97.0%\n",
      "epochs : 550\t train_loss :0.05485\t test_loss :0.02011\t train_accuracy :99.0%\t test_accuracy :97.0%\n",
      "epochs : 600\t train_loss :0.051\t test_loss :0.01793\t train_accuracy :99.0%\t test_accuracy :97.0%\n",
      "epochs : 650\t train_loss :0.0479\t test_loss :0.01616\t train_accuracy :99.0%\t test_accuracy :97.5%\n",
      "epochs : 700\t train_loss :0.04525\t test_loss :0.01478\t train_accuracy :99.0%\t test_accuracy :97.5%\n",
      "epochs : 750\t train_loss :0.04298\t test_loss :0.01366\t train_accuracy :99.0%\t test_accuracy :98.5%\n",
      "epochs : 800\t train_loss :0.04105\t test_loss :0.01277\t train_accuracy :99.0%\t test_accuracy :98.5%\n",
      "epochs : 850\t train_loss :0.03932\t test_loss :0.01208\t train_accuracy :99.0%\t test_accuracy :98.5%\n",
      "epochs : 900\t train_loss :0.03776\t test_loss :0.01154\t train_accuracy :99.0%\t test_accuracy :99.0%\n",
      "epochs : 950\t train_loss :0.03621\t test_loss :0.01107\t train_accuracy :99.0%\t test_accuracy :99.0%\n",
      " excutive time : 113.18262600898743\n"
     ]
    },
    {
     "data": {
      "image/png": "[encoded data removed]",
      "text/plain": [
       "<Figure size 432x288 with 1 Axes>"
      ]
     },
     "metadata": {
      "needs_background": "light"
     },
     "output_type": "display_data"
    },
    {
     "data": {
      "image/png": "[encoded data removed]",
      "text/plain": [
       "<Figure size 432x288 with 1 Axes>"
      ]
     },
     "metadata": {
      "needs_background": "light"
     },
     "output_type": "display_data"
    }
   ],
   "source": [
    "rd.seed(777)\n",
    "class NN:\n",
    "    train_set_x, train_set_y, test_set_x, test_set_y, learning_rate, end_learning_rate, activate = np.array([]), np.array([]), np.array(\n",
    "        []), np.array([]), 0, 0, 'sigmoid'\n",
    "    layer, train_loss, test_loss, train_accuracy, test_accuracy = [], [], [], [], []\n",
    "    feature = []\n",
    "    batch = 1\n",
    "    # 추적\n",
    "    weight_hist = []\n",
    "    delta_hist = []\n",
    "    bias_hist = []\n",
    "\n",
    "    def __init__(self, train_set_x, train_set_y, test_set_x, test_set_y, feature, learning_rate=0.01,\\\n",
    "                 end_learning_rate = 0.01, batch=1):\n",
    "        self.learning_rate = learning_rate\n",
    "        self.end_learning_rate = end_learning_rate\n",
    "        self.train_set_x = train_set_x\n",
    "        self.train_set_y = train_set_y\n",
    "        self.test_set_x = test_set_x\n",
    "        self.test_set_y = test_set_y\n",
    "        self.feature = feature\n",
    "        self.batch = batch\n",
    "        # w initialization sigmoid use xavier initialization  Relu using He initialization\n",
    "        for i, f in enumerate(self.feature):\n",
    "            if i == (len(self.feature) - 1):\n",
    "                break\n",
    "            w = 0\n",
    "            if f[2] is 'sigmoid':\n",
    "                #w = rd.randn(f[0], int(self.feature[i + 1][0])) * np.sqrt(1 / (f[0] + self.feature[i + 1][0]))\n",
    "                w = rd.randn(f[0], int(self.feature[i + 1][0])) * np.sqrt(1 / (f[0] ))\n",
    "            elif f[2] is 'relu':\n",
    "                #w = rd.randn(f[0], int(self.feature[i + 1][0])) * np.sqrt(2 / (f[0] + self.feature[i + 1][0]))\n",
    "                w = rd.randn(f[0], int(self.feature[i + 1][0])) * np.sqrt(2 / (f[0]))\n",
    "            self.layer.append(layer_class(w, f[1], f[2]))\n",
    "\n",
    "    def forwarding(self, x_data, y_data):\n",
    "        for i, k in enumerate(self.layer):\n",
    "            a = np.array([])\n",
    "            # 첫단에만 input\n",
    "            a = np.append(a, np.dot(x_data, k.w)).reshape(x_data.shape[0], k.w.shape[1]) if i == 0 \\\n",
    "                        else np.append(a, np.dot(self.layer[i - 1].dataflow, k.w)).reshape(x_data.shape[0], k.w.shape[1])\n",
    "            #bias 추가\n",
    "            if k.bias == 'True':\n",
    "                a = np.multiply(np.ones((int(x_data.shape[0]), int(k.w.shape[1]))), k.b) + a\n",
    "            k.dataflow = k.ftn(a)\n",
    "\n",
    "\n",
    "    def backpropagation(self, x_data, y_data, lr):\n",
    "        for i, L in reversed(list(enumerate(self.layer))):\n",
    "            #delta구하기, 마지막 단만 cross entropy derivation 값\n",
    "            L.before_w = L.w\n",
    "            L.delta = y_data - L.dataflow if i is (len(self.layer) - 1) \\\n",
    "                                        else np.multiply(L.dftn(L.dataflow), \\\n",
    "                                        np.dot(self.layer[i + 1].delta, self.layer[i + 1].before_w.T))\n",
    "\n",
    "            # i가 0 이면 input data가 train_set\n",
    "            inputt = x_data if i ==0 else self.layer[i - 1].dataflow\n",
    "            \n",
    "            '''x_k * delta -> upgrade할 weight'''\n",
    "            upgrade_w = np.array([np.outer(inputt[k], L.delta[k]) for k in range(L.delta.shape[0])])\\\n",
    "                        .reshape(-1, L.w.shape[0], L.w.shape[1])\n",
    "            \n",
    "            \"\"\"update bias\"\"\"\n",
    "            if L.bias == 'True':\n",
    "                L.b = L.b + L.delta * self.learning_rate\n",
    "            \"\"\"update weight\"\"\"\n",
    "            L.w = L.w + np.average(upgrade_w, axis=0) * self.learning_rate\n",
    "            \n",
    "            \n",
    "    def training(self, epochs):\n",
    "        for i in range(epochs):\n",
    "            for j in range(self.batch):\n",
    "                x_data = self.train_set_x[\n",
    "                         int(len(self.train_set_x) / self.batch) * j: int(len(self.train_set_x) / self.batch) * (j + 1),\n",
    "                         :]\n",
    "                y_data = self.train_set_y[\n",
    "                         int(len(self.train_set_y) / self.batch) * j: int(len(self.train_set_y) / self.batch) * (j + 1),\n",
    "                         :]\n",
    "                lr = self.learning_rate + (self.end_learning_rate - self.learning_rate) / epochs\n",
    "                self.forwarding(x_data, y_data)\n",
    "                self.backpropagation(x_data, y_data, lr)\n",
    "            self.data_save(self.test_set_x, self.test_set_y)\n",
    "\n",
    "            # print(f\"bias : {self.layer[0].b}\")\n",
    "            if i % 50 == 0:\n",
    "                print(f\"epochs : {i}\\t train_loss :{self.train_loss[i]:.4}\\t test_loss :{self.test_loss[i]:.4}\\t train_accuracy :{self.train_accuracy[i]:.3}%\\t test_accuracy :{self.test_accuracy[i]:.3}%\")\n",
    "\n",
    "    def plot(self):\n",
    "\n",
    "        plt.figure()\n",
    "        plt.plot(self.train_loss, 'b')\n",
    "        plt.plot(self.test_loss, 'r')\n",
    "        plt.show()\n",
    "\n",
    "        plt.figure()\n",
    "        plt.plot(self.train_accuracy, 'b')\n",
    "        plt.plot(self.test_accuracy, 'r')\n",
    "        plt.show()\n",
    "\n",
    "       ''' plt.figure()\n",
    "        plt.plot(self.weight_hist)\n",
    "        plt.plot(self.delta_hist)\n",
    "        plt.show()'''\n",
    "\n",
    "        '''plt.figure()\n",
    "        plt.plot(self.bias_hist)\n",
    "        plt.show()'''\n",
    "\n",
    "    def data_save(self, x_data, y_data):\n",
    "        #train loss, accuracy 구하기\n",
    "        predict = self.layer[-1].dataflow\n",
    "        y = self.train_set_y[-int(len(self.train_set_y) / self.batch):, :]\n",
    "        train_loss = np.average( -(y*np.log(predict + 1e-7) + (1-y)*np.log(1-predict+ 1e-7) ))\n",
    "        self.train_loss.append(train_loss)\n",
    "        \n",
    "        train_result = np.equal(y, np.array([self.layer[-1].dataflow > result_mean]))\n",
    "        train_correct = np.average(train_result) * 100\n",
    "        self.train_accuracy.append(train_correct)\n",
    "        \n",
    "        for i, k in enumerate(self.layer):\n",
    "            a = np.array([])\n",
    "            if i is 0:\n",
    "                a = np.append(a, np.dot(x_data, k.w))\n",
    "            else:\n",
    "                a = np.append(a, np.dot(self.layer[i - 1].dataflow, k.w))\n",
    "\n",
    "            a = a.reshape(self.test_set_x.shape[0], k.w.shape[1])\n",
    "            # print(a.shape)\n",
    "            k.dataflow = k.ftn(a)\n",
    "            \n",
    "            if i == 0:\n",
    "                self.weight_hist.append(k.w.reshape(-1))\n",
    "                self.delta_hist.append(k.delta.reshape(-1))\n",
    "                if k.bias is \"True\":\n",
    "                    self.bias_hist.append(k.b.reshape(-1))\n",
    "                    \n",
    "        self.test_loss = np.append(self.test_loss, np.average((self.layer[-1].dataflow - y_data)**2))\n",
    "\n",
    "        # print(self.layer[-1].dataflow)\n",
    "        # result = np.array([self.layer[-1].dataflow > 0.5])\n",
    "        result = np.array([self.layer[-1].dataflow > result_mean])\n",
    "        cnt = np.equal(self.test_set_y, result)\n",
    "        # print(f\"ny_data : \\n{self.test_set_y}\\n\\n y^ : \\n{self.layer[-1].dataflow}\")\n",
    "        correct = np.average(cnt) * 100\n",
    "        self.test_accuracy.append(correct)\n",
    "\n",
    "\n",
    "test = NN(t_x_data, t_y_data, test_x_data, test_y_data, \\\n",
    "          [[3, 'True', 'relu'], [30, 'True', 'relu'],[30, 'True', 'relu'],[30, 'True', 'relu'],\\\n",
    "           [30, 'True', 'sigmoid'],\\\n",
    "           [2, 'False', 'sigmoid']], \\\n",
    "          learning_rate=learning_rate, batch=batch)\n",
    "\n",
    "start_time = time.time()\n",
    "test.training(epochs)\n",
    "end_time = time.time()\n",
    "\n",
    "print(f\" excutive time : {end_time - start_time}\")\n",
    "test.plot()"
   ]
  },
  {
   "cell_type": "code",
   "execution_count": null,
   "metadata": {},
   "outputs": [],
   "source": []
  },
  {
   "cell_type": "code",
   "execution_count": 15,
   "metadata": {},
   "outputs": [
    {
     "name": "stdout",
     "output_type": "stream",
     "text": [
      "[[    5    10    15    20]\n",
      " [   25    50    75   100]\n",
      " [  100   200   300   400]\n",
      " [10000 20000 30000 40000]]\n",
      "[0.0e+00 5.0e+00 1.0e+01 1.5e+01 2.0e+01 2.5e+01 5.0e+01 7.5e+01 1.0e+02\n",
      " 1.0e+02 2.0e+02 3.0e+02 4.0e+02 1.0e+04 2.0e+04 3.0e+04 4.0e+04]\n"
     ]
    },
    {
     "data": {
      "text/plain": [
       "array([[[5.0e+00, 1.0e+01],\n",
       "        [1.5e+01, 2.0e+01]],\n",
       "\n",
       "       [[2.5e+01, 5.0e+01],\n",
       "        [7.5e+01, 1.0e+02]],\n",
       "\n",
       "       [[1.0e+02, 2.0e+02],\n",
       "        [3.0e+02, 4.0e+02]],\n",
       "\n",
       "       [[1.0e+04, 2.0e+04],\n",
       "        [3.0e+04, 4.0e+04]]])"
      ]
     },
     "execution_count": 15,
     "metadata": {},
     "output_type": "execute_result"
    }
   ],
   "source": [
    "upgrade_w = np.zeros(1)\n",
    "# outer로 한꺼번에 추가후에, reshape로 정렬\n",
    "a = np.array([[1, 2], [3, 4]])\n",
    "b = np.array([[5, 25], [100, 10000]])\n",
    "print(np.outer(b, a))\n",
    "upgrade_w = np.append(upgrade_w, np.outer(b, a))\n",
    "\n",
    "print(upgrade_w)\n",
    "    # print(f\" for {i} layer **********************\\ndelta : \\n{L.delta[k]}\\n input : \\n{input[k]}\\n result : \\n{np.outer(input[k], L.delta[k])}\")\n",
    "upgrade_w = np.delete(upgrade_w, 0, axis=0)\n",
    "upgrade_w = upgrade_w.reshape(-1, a.shape[0], a.shape[1])\n",
    "upgrade_w"
   ]
  },
  {
   "cell_type": "code",
   "execution_count": 53,
   "metadata": {},
   "outputs": [
    {
     "data": {
      "text/plain": [
       "array([[[  5. ,  50. ],\n",
       "        [  0.1,   0.4]],\n",
       "\n",
       "       [[ 15. , 100. ],\n",
       "        [  0.3,   0.8]]])"
      ]
     },
     "execution_count": 53,
     "metadata": {},
     "output_type": "execute_result"
    }
   ],
   "source": [
    "a = np.array([[1, 3], [2, 4]])\n",
    "b = np.array([[5, 25], [0.1 , 0.2]])\n",
    "#c = np.array(a[i] * b for i in range(a.shape[0]))\n",
    "#c = np.zeros((2, 1))\n",
    "c = np.array([[a[:,i] * b[j, :] for j in range(b.shape[0])] for i in range(a.shape[0]) ])\n",
    "c"
   ]
  },
  {
   "cell_type": "code",
   "execution_count": 47,
   "metadata": {},
   "outputs": [
    {
     "data": {
      "text/plain": [
       "array([ 0. ,  0. ,  5. ,  0.2, 25. ,  0.4, 15. ,  0.4, 75. ,  0.8])"
      ]
     },
     "execution_count": 47,
     "metadata": {},
     "output_type": "execute_result"
    }
   ],
   "source": [
    "a = np.array([[1, 3], [2, 4]])\n",
    "b = np.array([[5, 25], [0.1 , 0.2]])\n",
    "\n",
    "c = np.zeros((2,1))\n",
    "for i in range(a.shape[0]):\n",
    "    c = np.append(c, np.array([a[:,i] * b.T]))\n",
    "c"
   ]
  },
  {
   "cell_type": "code",
   "execution_count": null,
   "metadata": {},
   "outputs": [],
   "source": []
  },
  {
   "cell_type": "code",
   "execution_count": 105,
   "metadata": {},
   "outputs": [
    {
     "data": {
      "text/plain": [
       "0.3800135878248538"
      ]
     },
     "execution_count": 105,
     "metadata": {},
     "output_type": "execute_result"
    }
   ],
   "source": [
    "a = np.array([[1, 0], [0, 1]])\n",
    "b = np.array([[0.3, 0.1], [0.1 , 0.9]])\n",
    "c = -(a*np.log(b) + (1-a)*np.log(1-b))\n",
    "np.average(c)"
   ]
  },
  {
   "cell_type": "code",
   "execution_count": null,
   "metadata": {},
   "outputs": [],
   "source": []
  }
 ],
 "metadata": {
  "kernelspec": {
   "display_name": "Python 3",
   "language": "python",
   "name": "python3"
  },
  "language_info": {
   "codemirror_mode": {
    "name": "ipython",
    "version": 3
   },
   "file_extension": ".py",
   "mimetype": "text/x-python",
   "name": "python",
   "nbconvert_exporter": "python",
   "pygments_lexer": "ipython3",
   "version": "3.6.9"
  }
 },
 "nbformat": 4,
 "nbformat_minor": 4
}
