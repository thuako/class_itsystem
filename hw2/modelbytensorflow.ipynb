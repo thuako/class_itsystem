{
 "cells": [
  {
   "cell_type": "code",
   "execution_count": 1,
   "metadata": {},
   "outputs": [],
   "source": [
    "import tensorflow as tf\n",
    "import numpy as np\n",
    "import numpy.random as rd\n",
    "import sys\n",
    "import matplotlib.pyplot as plt\n",
    "import time"
   ]
  },
  {
   "cell_type": "code",
   "execution_count": 2,
   "metadata": {},
   "outputs": [
    {
     "data": {
      "text/plain": [
       "(500, 2)"
      ]
     },
     "execution_count": 2,
     "metadata": {},
     "output_type": "execute_result"
    }
   ],
   "source": [
    "rd.seed(777)\n",
    "\n",
    "dataset_num = 1000\n",
    "variance = 0.4\n",
    "wtflag = 0\n",
    "file_exist = False\n",
    "\n",
    "# making dataset\n",
    "def making_data_set(d_num):\n",
    "    d_set = np.empty(1)\n",
    "    if file_exist:\n",
    "        tmp = np.load(sys.argv[1])\n",
    "        d_set = np.append(d_set, tmp)\n",
    "    else:\n",
    "        for i in range(int(d_num)):\n",
    "            b0 = int(rd.randint(0, 2, 1))\n",
    "            b1 = int(rd.randint(0, 2, 1))\n",
    "            b2 = int(rd.randint(0, 2, 1))\n",
    "            \n",
    "            x = rd.normal(b0*2 - 1, variance)\n",
    "            y = rd.normal(b1*2 -1, variance)\n",
    "            z = rd.normal(b2*2-1, variance)\n",
    "            \n",
    "            result = b0 + b1 + b2\n",
    "            \n",
    "            rb0 = result % 2\n",
    "            rb1 = int(result/2) % 2\n",
    "            d_set = np.append(d_set, [[x, y, z, rb0, rb1]])\n",
    "            '''x = rd.randint(0, 2, 1)\n",
    "            y = rd.randint(0, 2, 1)\n",
    "            rst = x | y\n",
    "            \n",
    "            d_set = np.append(d_set, [x, y, rst])'''\n",
    "    d_set = np.delete(d_set, 0, axis=0)\n",
    "    d_set = d_set.reshape(-1, 5)\n",
    "    #d_set = d_set.reshape(-1, 3)\n",
    "    return d_set\n",
    "t_data = making_data_set(dataset_num).astype(np.float32)\n",
    "t_x_data = t_data[:, 0:-2]\n",
    "t_y_data = t_data[:, -2:].reshape(-1, 2)\n",
    "\n",
    "test_data = making_data_set(500).astype(np.float32)\n",
    "test_x_data = test_data[:, 0:-2]\n",
    "test_y_data = test_data[:, -2:].reshape(-1, 2)\n",
    "\n",
    "test_y_data.shape"
   ]
  },
  {
   "cell_type": "code",
   "execution_count": 3,
   "metadata": {},
   "outputs": [],
   "source": [
    "epochs = 1000\n",
    "batch = 5\n",
    "learning_rate = 0.005 #0.6 일 때 cross_entropy의 무한발산 특성 때문에 nan 뜨는경우가 잇엇음 in relu\n",
    "end_learning_rate = 0.005\n",
    "result_mean = 0.5"
   ]
  },
  {
   "cell_type": "code",
   "execution_count": 5,
   "metadata": {},
   "outputs": [
    {
     "name": "stdout",
     "output_type": "stream",
     "text": [
      "step : 0\t train cost : 0.715\t train accuracy : 0.485\t test cost :0.7116\t test accuracy : 0.486\n",
      "step : 40\t train cost : 0.6639\t train accuracy : 0.6675\t test cost :0.664\t test accuracy : 0.7\n",
      "step : 80\t train cost : 0.6113\t train accuracy : 0.7275\t test cost :0.6146\t test accuracy : 0.753\n",
      "step : 120\t train cost : 0.5607\t train accuracy : 0.75\t test cost :0.5671\t test accuracy : 0.774\n",
      "step : 160\t train cost : 0.5161\t train accuracy : 0.815\t test cost :0.5248\t test accuracy : 0.816\n",
      "step : 200\t train cost : 0.4752\t train accuracy : 0.8375\t test cost :0.4861\t test accuracy : 0.835\n",
      "step : 240\t train cost : 0.4398\t train accuracy : 0.88\t test cost :0.4525\t test accuracy : 0.847\n",
      "step : 280\t train cost : 0.4098\t train accuracy : 0.9\t test cost :0.4243\t test accuracy : 0.87\n",
      "step : 320\t train cost : 0.3843\t train accuracy : 0.9325\t test cost :0.4006\t test accuracy : 0.906\n",
      "step : 360\t train cost : 0.3627\t train accuracy : 0.9375\t test cost :0.3805\t test accuracy : 0.917\n",
      "step : 400\t train cost : 0.3436\t train accuracy : 0.9475\t test cost :0.3629\t test accuracy : 0.917\n",
      "step : 440\t train cost : 0.3259\t train accuracy : 0.95\t test cost :0.3469\t test accuracy : 0.922\n",
      "step : 480\t train cost : 0.3091\t train accuracy : 0.9525\t test cost :0.3318\t test accuracy : 0.926\n",
      "step : 520\t train cost : 0.2928\t train accuracy : 0.9575\t test cost :0.3172\t test accuracy : 0.928\n",
      "step : 560\t train cost : 0.2768\t train accuracy : 0.96\t test cost :0.3029\t test accuracy : 0.935\n",
      "step : 600\t train cost : 0.2611\t train accuracy : 0.9625\t test cost :0.2888\t test accuracy : 0.938\n",
      "step : 640\t train cost : 0.2458\t train accuracy : 0.9625\t test cost :0.2749\t test accuracy : 0.937\n",
      "step : 680\t train cost : 0.2309\t train accuracy : 0.9625\t test cost :0.2613\t test accuracy : 0.945\n",
      "step : 720\t train cost : 0.2165\t train accuracy : 0.9625\t test cost :0.2481\t test accuracy : 0.948\n",
      "step : 760\t train cost : 0.2028\t train accuracy : 0.9625\t test cost :0.2355\t test accuracy : 0.95\n",
      "step : 800\t train cost : 0.1899\t train accuracy : 0.965\t test cost :0.2236\t test accuracy : 0.953\n",
      "step : 840\t train cost : 0.178\t train accuracy : 0.965\t test cost :0.2125\t test accuracy : 0.956\n",
      "step : 880\t train cost : 0.1671\t train accuracy : 0.965\t test cost :0.2022\t test accuracy : 0.956\n",
      "step : 920\t train cost : 0.1572\t train accuracy : 0.965\t test cost :0.1928\t test accuracy : 0.956\n",
      "step : 960\t train cost : 0.1482\t train accuracy : 0.965\t test cost :0.1842\t test accuracy : 0.956\n",
      "[0.         0.7742284  0.         0.         0.         0.\n",
      " 0.         0.61356163 0.7918742  0.         1.7879434  0.\n",
      " 1.9129808  0.9001386  0.03170504 0.44400257 0.         0.\n",
      " 0.         1.7059655  0.4882636  0.54058844 0.37471768 0.49713123\n",
      " 0.76789916 0.         0.17927949 1.0768678  0.15880893 0.        ]\n",
      "time : 4.5132951736450195\n"
     ]
    },
    {
     "data": {
      "image/png": "[encoded data removed]",
      "text/plain": [
       "<Figure size 432x288 with 1 Axes>"
      ]
     },
     "metadata": {
      "needs_background": "light"
     },
     "output_type": "display_data"
    },
    {
     "data": {
      "image/png": "[encoded data removed]",
      "text/plain": [
       "<Figure size 432x288 with 1 Axes>"
      ]
     },
     "metadata": {
      "needs_background": "light"
     },
     "output_type": "display_data"
    }
   ],
   "source": [
    "tf.get_seed(777)\n",
    "tf.reset_default_graph()\n",
    "\n",
    "input_x = tf.placeholder(tf.float32, [None, 3])\n",
    "input_y = tf.placeholder(tf.float32, [None, 2])\n",
    "\n",
    "'''Use tf.Variable, random_normal'''\n",
    "'''w1 = tf.Variable( tf.random_normal([3, 40]), 'weight1')\n",
    "bias1 = tf.Variable( tf.random_normal([40]), 'b1')\n",
    "ouput1 = tf.sigmoid(tf.matmul(input_x, w1) + bias1)\n",
    "\n",
    "w2 = tf.Variable( tf.random_normal([40, 40]), 'weight2')\n",
    "bias2 = tf.Variable( tf.random_normal([40]), 'b2')\n",
    "output2 = tf.sigmoid(tf.matmul(ouput1, w2) + bias2)\n",
    "\n",
    "w3 = tf.Variable( tf.random_normal([40, 40]), 'weight3')\n",
    "bias3 = tf.Variable( tf.random_normal([40]), 'b3')\n",
    "output3 = tf.sigmoid(tf.matmul(output2, w3) + bias3)\n",
    "\n",
    "w4 = tf.Variable( tf.random_normal([40, 2]), 'weight4')\n",
    "output4 = tf.sigmoid(tf.matmul(output3, w4))'''\n",
    "\n",
    "'''use get_variable, xavier_initializer'''\n",
    "w1 = tf.get_variable( 'weight1', [3, 30], initializer=tf.contrib.layers.xavier_initializer())\n",
    "bias1 = tf.get_variable( 'b1', [30], initializer=tf.contrib.layers.xavier_initializer())\n",
    "ouput1 = tf.nn.relu(tf.matmul(input_x, w1) + bias1)\n",
    "\n",
    "w2 = tf.get_variable( 'weight2', [30, 30], initializer=tf.contrib.layers.xavier_initializer() )\n",
    "bias2 = tf.get_variable(  'b2', [30], initializer=tf.contrib.layers.xavier_initializer())\n",
    "output2 = tf.nn.relu(tf.matmul(ouput1, w2) + bias2)\n",
    "\n",
    "w3 = tf.get_variable(  'weight3', [30, 30],initializer=tf.contrib.layers.xavier_initializer() )\n",
    "bias3 = tf.get_variable( 'b3', [30],initializer=tf.contrib.layers.xavier_initializer() )\n",
    "output3 = tf.nn.relu(tf.matmul(output2, w3) + bias3)\n",
    "\n",
    "w4 = tf.get_variable('weight4', [30, 2] ,initializer=tf.contrib.layers.xavier_initializer() )\n",
    "#output4 = tf.nn.softmax(tf.matmul(output3, w4))\n",
    "output4 = tf.sigmoid(tf.matmul(output3, w4))\n",
    "\n",
    "cost = -tf.reduce_mean(input_y*tf.log(output4) + (1-input_y)*tf.log(1-output4))\n",
    "train = tf.train.GradientDescentOptimizer(learning_rate=learning_rate).minimize(cost)\n",
    "predicted = tf.cast(output4>0.5, dtype=tf.float32)\n",
    "accuracy = tf.reduce_mean(tf.cast(tf.equal(predicted, input_y), dtype=tf.float32))\n",
    "\n",
    "sess = tf.Session()\n",
    "sess.run(tf.global_variables_initializer())\n",
    "\n",
    "start_time = time.time()\n",
    "\n",
    "train_loss, test_loss, train_accuracy, test_accuracy = [], [], [], []\n",
    "weight_hist = []\n",
    "delta_hist = []\n",
    "bias_hist = []\n",
    "\n",
    "for step in range(epochs):\n",
    "    for i in range(batch):\n",
    "        tmp = int(len(t_x_data)/batch)\n",
    "        _, cost_val, accuracy_val = sess.run([train, cost, accuracy], \\\n",
    "                                             feed_dict={input_x : t_x_data[i:i+tmp], input_y : t_y_data[i:i+tmp]})\n",
    "    test_cost_val, test_accuracy_val, output3_val = sess.run([cost, accuracy, output3], feed_dict={input_x : test_x_data, input_y : test_y_data})\n",
    "    train_loss.append(cost_val); test_loss.append(test_cost_val); train_accuracy.append(accuracy_val); test_accuracy.append(test_accuracy_val)\n",
    "    if step % 40 == 0:\n",
    "        print(f\"step : {step}\\t train cost : {cost_val:.4}\\t train accuracy : {accuracy_val:.4}\\t test cost :{test_cost_val:.4}\\t test accuracy : {test_accuracy_val:.4}\") \n",
    "    if step == (epochs-1):\n",
    "        print(output3_val[0])\n",
    "end_time = time.time()\n",
    "\n",
    "print(f'time : {end_time-start_time}')\n",
    "\n",
    "plt.figure()\n",
    "plt.plot(train_loss, 'b')\n",
    "plt.plot(test_loss, 'r')\n",
    "plt.show()\n",
    "\n",
    "plt.figure()\n",
    "plt.plot(train_accuracy, 'b')\n",
    "plt.plot(test_accuracy, 'r')\n",
    "plt.show()\n"
   ]
  },
  {
   "cell_type": "code",
   "execution_count": null,
   "metadata": {},
   "outputs": [],
   "source": []
  }
 ],
 "metadata": {
  "kernelspec": {
   "display_name": "Python 3",
   "language": "python",
   "name": "python3"
  },
  "language_info": {
   "codemirror_mode": {
    "name": "ipython",
    "version": 3
   },
   "file_extension": ".py",
   "mimetype": "text/x-python",
   "name": "python",
   "nbconvert_exporter": "python",
   "pygments_lexer": "ipython3",
   "version": "3.6.9"
  }
 },
 "nbformat": 4,
 "nbformat_minor": 4
}
