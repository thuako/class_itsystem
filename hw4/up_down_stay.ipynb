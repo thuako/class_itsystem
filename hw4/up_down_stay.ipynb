{
  "nbformat": 4,
  "nbformat_minor": 0,
  "metadata": {
    "colab": {
      "name": "up down stay",
      "provenance": [],
      "collapsed_sections": [],
      "authorship_tag": "ABX9TyNF4352j9p1iHtlucqaZf9/",
      "include_colab_link": true
    },
    "kernelspec": {
      "name": "python3",
      "display_name": "Python 3"
    }
  },
  "cells": [
    {
      "cell_type": "markdown",
      "metadata": {
        "id": "view-in-github",
        "colab_type": "text"
      },
      "source": [
        "<a href=\"https://colab.research.google.com/github/tjrgh822/class_itsystem/blob/master/hw4/up_down_stay.ipynb\" target=\"_parent\"><img src=\"https://colab.research.google.com/assets/colab-badge.svg\" alt=\"Open In Colab\"/></a>"
      ]
    },
    {
      "cell_type": "code",
      "metadata": {
        "id": "vQSalDAqxggr",
        "colab_type": "code",
        "colab": {}
      },
      "source": [
        "import torch\n",
        "import torch.nn as nn\n",
        "import numpy as np\n",
        "import pandas as pd\n",
        "import torch.optim as optim\n",
        "import matplotlib.pyplot as plt\n",
        "from torch.utils.data import  TensorDataset, DataLoader\n",
        "from torch.utils.data import Dataset, DataLoader\n",
        "\n",
        "!wget https://raw.githubusercontent.com/tjrgh822/class_itsystem/master/hw4/KOSPI%20200%20Historical%20Data%203years.csv\n",
        "!wget https://raw.githubusercontent.com/tjrgh822/class_itsystem/master/hw4/KOSPI%20200%20Historical%20Data%20corona-2.csv\n",
        "!wget https://raw.githubusercontent.com/tjrgh822/class_itsystem/master/hw4/KOSPI%20200%20Historical%20Data%20corona.csv\n",
        "!wget https://raw.githubusercontent.com/tjrgh822/class_itsystem/master/hw4/KOSPI%20200%20Historical%20Data%20mortgage-2.csv\n",
        "!wget https://raw.githubusercontent.com/tjrgh822/class_itsystem/master/hw4/KOSPI%20200%20Historical%20Data%20mortgage-3.csv\n",
        "!wget https://raw.githubusercontent.com/tjrgh822/class_itsystem/master/hw4/KOSPI%20200%20Historical%20Data%20mortgage.csv\n",
        "!wget https://raw.githubusercontent.com/tjrgh822/class_itsystem/master/hw4/TSEC%20Taiwan%2050%20Historical%20Data.csv\n"
      ],
      "execution_count": 0,
      "outputs": []
    },
    {
      "cell_type": "code",
      "metadata": {
        "id": "mvhxfDdCyIBY",
        "colab_type": "code",
        "colab": {}
      },
      "source": [
        "#데이터 불러오기\n",
        "b = pd.read_csv(\"KOSPI 200 Historical Data corona-2.csv\")\n",
        "b = b[['Open', 'High', 'Low', \"Vol.\", 'Price' ]]\n",
        "b['Vol.'] = b['Vol.'].str.replace(pat='M', repl='e6', regex=False)\n",
        "b['Vol.'] = b['Vol.'].str.replace(pat='K', repl='e3', regex=False)\n",
        "corona_set = np.array(b.values, dtype= np.float32)[::-1]\n",
        "\n",
        "\n",
        "y = pd.read_csv(\"KOSPI 200 Historical Data mortgage-3.csv\")\n",
        "y = y[['Open', 'High', 'Low', \"Vol.\", 'Price' ]]\n",
        "y['Vol.'] = y['Vol.'].str.replace(pat='M', repl='e6', regex=False)\n",
        "y['Vol.'] = y['Vol.'].str.replace(pat='K', repl='e3', regex=False)\n",
        "mortgage_set = np.array(y.values, dtype= np.float32)[::-1]\n",
        "\n",
        "\n",
        "three_years = pd.read_csv(\"KOSPI 200 Historical Data 3years.csv\")\n",
        "three_years = three_years[['Open', 'High', 'Low', \"Vol.\", 'Price' ]]\n",
        "three_years['Vol.'] = three_years['Vol.'].str.replace(pat='M', repl='e6', regex=False)\n",
        "three_years['Vol.'] = three_years['Vol.'].str.replace(pat='K', repl='e3', regex=False)\n",
        "year = np.array(three_years.values, dtype= np.float32)[::-1]\n",
        "\n"
      ],
      "execution_count": 0,
      "outputs": []
    },
    {
      "cell_type": "code",
      "metadata": {
        "id": "fZmpbCCF_ERS",
        "colab_type": "code",
        "colab": {}
      },
      "source": [
        "#model select\n",
        "'''\n",
        "Option :\n",
        "LSTM, DNN\n",
        "'''\n",
        "model_select = 'DNN' \n",
        "\n",
        "#hyper param\n",
        "'''seq_length = 20 # 총 몇일의 날짜를 window로 설정할 것인지\n",
        "data_dim = 5 # 하루에 high, low, open, close, volume 의 데이터를 넣겠다.\n",
        "hidden_dim = 10 # 각 LSTM cell의 output dimension.\n",
        "output_dim = 2 # up, down\n",
        "learning_rate = 0.01\n",
        "iterations = 500\n",
        "batch = 10000 # 10000 이상이면 batch 없다'''\n",
        "\n",
        "\n",
        "seq_length = 5 # 총 몇일의 날짜를 window로 설정할 것인지\n",
        "data_dim = 5 # 하루에 high, low, open, close, volume 의 데이터를 넣겠다.\n",
        "hidden_dim = 5 # 각 LSTM cell의 output dimension.\n",
        "output_dim = 2 # up, down\n",
        "learning_rate = 0.01\n",
        "iterations = 500\n",
        "batch = 10000 # 10000 이상이면 batch 없다\n",
        "\n",
        "#data select\n",
        "''' \n",
        "Option : \n",
        "dataset1  3years(70%) - 3years(30%)\n",
        "dataset2  mortgage – corona\n",
        "dataset3  corona - corona\n",
        "'''\n",
        "data_select = 'dataset3'\n",
        "\n",
        "if data_select == 'dataset1':\n",
        "  data_set = year\n",
        "  train_size = int(len(data_set) * 0.7) # 70퍼센트만 training set 으로 만듬\n",
        "  origin_train_set = data_set[0:train_size]\n",
        "  origin_test_set = data_set[train_size - seq_length:]\n",
        "elif data_select == 'dataset2':\n",
        "  origin_train_set = mortgage_set\n",
        "  origin_test_set = corona_set\n",
        "elif data_select == 'dataset3':\n",
        "  data_set = corona_set\n",
        "  train_size = int(len(data_set) * 0.7) # 70퍼센트만 training set 으로 만듬\n",
        "  origin_train_set = data_set[0:train_size]\n",
        "  origin_test_set = data_set[train_size - seq_length:]\n"
      ],
      "execution_count": 0,
      "outputs": []
    },
    {
      "cell_type": "code",
      "metadata": {
        "id": "qTtGCLXpygth",
        "colab_type": "code",
        "colab": {}
      },
      "source": [
        "def minmax_scaler(data):\n",
        "  normalized_data = np.zeros((data.shape[0], 1))\n",
        "  for i in range(data.shape[1]):\n",
        "    d = data[:, i]\n",
        "    numerator = d - np.min(d, 0)\n",
        "    denominator = np.max(d, 0) - np.min(d, 0)\n",
        "    normalized_data = np.append(normalized_data, (numerator / (denominator + 1e-7)).reshape(-1, 1), axis = 1)\n",
        "  normalized_data = np.delete(normalized_data, 0, axis=1)\n",
        "  return normalized_data\n",
        "\n",
        "'''\n",
        "def minmax_scaler(data):\n",
        "  numerator = data - np.min(data, 0)\n",
        "  denominator = np.max(data, 0) - np.min(data, 0)\n",
        "  return numerator / (denominator + 1e-7)\n",
        "'''\n",
        "def build_dataset(origin_time_series, time_series, seq_length):\n",
        "  dataX = []\n",
        "  dataY = []\n",
        "  percent = []\n",
        "  for i in range(0, len(time_series) - seq_length):\n",
        "    _x = time_series[i:i+seq_length, :]\n",
        "    ay = origin_time_series[i+seq_length, [-1]] # 내일종가\n",
        "    cy = origin_time_series[i+seq_length-1, [-1]] # 오늘종가\n",
        "    _percent = ay/cy\n",
        "    if (_percent - 1) > 0:\n",
        "      _y = 1\n",
        "    else:\n",
        "      _y = 0\n",
        " \n",
        "    #print(_x, \"->\", _y)\n",
        "    dataX.append(_x)\n",
        "    dataY.append(_y)\n",
        "    percent.append(_percent)\n",
        "  #print(dataX)\n",
        "  return np.array(dataX), np.array(dataY), np.array(percent)\n",
        "\n",
        "\n",
        "#scaling 작업 이유 : 주가 -> 800 정도되는 데이터, 거래랑 -> 10000만 정도 되는 숫자\n",
        "#이러한 scaling까지 예측해야되는 부담을 덜어주기 위해 normalization 하게 만듬\n",
        "train_set = minmax_scaler(origin_train_set)\n",
        "test_set = minmax_scaler(origin_test_set)\n",
        "\n",
        "trainX, trainY, train_percent = build_dataset(origin_train_set, train_set, seq_length)\n",
        "testX, testY, test_percent = build_dataset(origin_test_set, test_set, seq_length)\n",
        "\n",
        "class CustomDataset(Dataset): \n",
        "  def __init__(self, x_data, y_data, model):\n",
        "    if model == 'LSTM':\n",
        "      self.x_data = x_data\n",
        "      self.y_data = y_data.reshape(-1, 1)\n",
        "    if model == 'DNN':\n",
        "      self.x_data = x_data.reshape(-1, data_dim*seq_length)\n",
        "      self.y_data = y_data.reshape(-1, 1)\n",
        "  # 총 데이터의 개수를 리턴\n",
        "  def __len__(self): \n",
        "    return len(self.x_data)\n",
        "\n",
        "  # 인덱스를 입력받아 그에 맵핑되는 입출력 데이터를 파이토치의 Tensor 형태로 리턴\n",
        "  def __getitem__(self, idx): \n",
        "    x = torch.FloatTensor(self.x_data[idx] )\n",
        "    y = torch.LongTensor(self.y_data[idx])\n",
        "    return x, y\n"
      ],
      "execution_count": 0,
      "outputs": []
    },
    {
      "cell_type": "code",
      "metadata": {
        "id": "hkEhFOGhzJyw",
        "colab_type": "code",
        "colab": {
          "base_uri": "https://localhost:8080/",
          "height": 35
        },
        "outputId": "fca95661-c5f2-4b9e-eb4f-85116ddf98a7"
      },
      "source": [
        "#model\n",
        "\n",
        "class Net(torch.nn.Module):\n",
        "  def __init__(self, input_dim, hidden_dim, output_dim, layers):\n",
        "    super(Net, self).__init__()\n",
        "    self.rnn = torch.nn.LSTM(input_dim, hidden_dim, num_layers = layers, batch_first=True)\n",
        "    self.fc1 = torch.nn.Linear(hidden_dim, hidden_dim*2, bias = True)\n",
        "    self.fc2 = torch.nn.Linear(hidden_dim*2, hidden_dim*2, bias = True)\n",
        "    self.fc3 = torch.nn.Linear(hidden_dim*2, output_dim, bias = True)\n",
        "    self.dropout = torch.nn.Dropout(p=0.3)\n",
        "    self.relu = torch.nn.ReLU()\n",
        "    self.softmax = torch.nn.Softmax()\n",
        "  def forward(self, x):\n",
        "    x, _status = self.rnn(x)\n",
        "    x = self.relu(x[:, -1])\n",
        "    x = self.dropout(x)\n",
        "    \n",
        "    x = self.fc1(x)\n",
        "    x = self.relu(x)\n",
        "    x = self.dropout(x)\n",
        "    \n",
        "    x = self.fc2(x)\n",
        "    x = self.relu(x)\n",
        "    x = self.dropout(x)\n",
        "\n",
        "    x = self.fc3(x)\n",
        "    x = self.softmax(x)\n",
        "    return x\n",
        "\n",
        "class linear_regression(torch.nn.Module):\n",
        "  def __init__(self, input_dim, hidden_dim, output_dim, layers):\n",
        "    super(linear_regression, self).__init__()\n",
        "\n",
        "    self.fc1 = torch.nn.Linear(input_dim, hidden_dim*4, bias = True)\n",
        "    self.fc2 = torch.nn.Linear(hidden_dim*4, hidden_dim*4, bias = True)\n",
        "    self.fc3 = torch.nn.Linear(hidden_dim*4, output_dim, bias = True)\n",
        "\n",
        "    self.dropout = torch.nn.Dropout(p=0.2)\n",
        "    self.relu = torch.nn.ReLU()\n",
        "  def forward(self, x):\n",
        "    x = self.fc1(x)\n",
        "    x = self.relu(x)\n",
        "    x = self.dropout(x)\n",
        "\n",
        "    x = self.fc2(x)\n",
        "    x = self.relu(x)\n",
        "    x = self.dropout(x)\n",
        "\n",
        "    x = self.fc2(x)\n",
        "    x = self.relu(x)\n",
        "    x = self.dropout(x)\n",
        "\n",
        "    x = self.fc3(x)\n",
        "    return x\n",
        "\n"
      ],
      "execution_count": 487,
      "outputs": [
        {
          "output_type": "stream",
          "text": [
            "<class '__main__.linear_regression'>\n"
          ],
          "name": "stdout"
        }
      ]
    },
    {
      "cell_type": "code",
      "metadata": {
        "id": "aW4XSN0sASzd",
        "colab_type": "code",
        "colab": {}
      },
      "source": [
        "#model select\n",
        "if model_select == 'LSTM':\n",
        "  net = Net(data_dim, hidden_dim, output_dim , 1)\n",
        "\n",
        "if model_select == 'DNN':\n",
        "  net = linear_regression(data_dim* seq_length, hidden_dim* seq_length, output_dim, 1)\n",
        "\n",
        "#criterion, optimizer\n",
        "criterion = torch.nn.CrossEntropyLoss()\n",
        "optimizer = torch.optim.Adam(net.parameters(), lr = learning_rate)\n",
        "\n",
        "#custom data set\n",
        "trainset = CustomDataset(trainX, trainY, model_select)\n",
        "testset = CustomDataset(testX, testY, model_select)\n",
        "trainloader = DataLoader(trainset, batch_size = max(batch, len(trainset)), shuffle = False, num_workers= 1)\n",
        "val_trainloader = DataLoader(trainset, batch_size =  len(trainset), shuffle = False, num_workers= 1)\n",
        "\n",
        "testloader = DataLoader(testset, batch_size = len(trainset), shuffle = False, num_workers= 1)\n"
      ],
      "execution_count": 0,
      "outputs": []
    },
    {
      "cell_type": "code",
      "metadata": {
        "id": "Vc6kCAyLAVSV",
        "colab_type": "code",
        "outputId": "6ac329f8-db8f-40e5-f2f8-5c729a7b972f",
        "colab": {
          "base_uri": "https://localhost:8080/",
          "height": 826
        }
      },
      "source": [
        "torch.manual_seed(0)\n",
        "\n",
        "hist_acc, hist_val_acc = [], []\n",
        "hist_loss, hist_val_loss = [],[]\n",
        "best, best_train = 0, 0\n",
        "for i in range(iterations):\n",
        "  net.train()\n",
        "  for x, y in trainloader:\n",
        "    optimizer.zero_grad()\n",
        "    outputs = net(x)\n",
        "    \n",
        "    loss = criterion(outputs.view(-1, 2), y.view(-1))\n",
        "\n",
        "    loss.backward()\n",
        "    optimizer.step()\n",
        "\n",
        "  net.eval()\n",
        "  acc = []\n",
        "  for xx, yy in val_trainloader:\n",
        "    outputs = net(xx).data.numpy()\n",
        "    outputs = np.argmax(outputs, axis=1).reshape(-1, 1)\n",
        "    acc = np.average(outputs == trainY)\n",
        "\n",
        "  for tx, ty in testloader:\n",
        "    predict = net(tx)\n",
        "    val_loss = criterion(predict.view(-1, 2), torch.LongTensor(testY).view(-1))\n",
        "\n",
        "  predict = np.argmax(predict.data.numpy(), axis=1).reshape(-1, 1)\n",
        "  val_acc = np.average(predict == testY)\n",
        "\n",
        "  hist_loss.append(loss.item())\n",
        "  hist_val_loss.append(val_loss.item())\n",
        "\n",
        "  if i % 50 == 0:\n",
        "    print(f'epochs : {i}, loss : {loss.item():.4} acc : {acc:.4} val_acc : {val_acc:.4}')\n",
        "  #print(predict[:20].reshape(-1))\n",
        "  hist_acc.append(acc)\n",
        "  hist_val_acc.append(val_acc)\n",
        "\n",
        "  if best < val_acc and i > 200:\n",
        "    torch.save(net.state_dict(), 'best')\n",
        "    print(f'=======================best val = {val_acc:.4}')\n",
        "    best = val_acc\n",
        "    best_train = acc\n",
        "\n",
        "torch.save(net.state_dict(), 'last')\n",
        "\n",
        "plt.plot(hist_acc)\n",
        "plt.plot(hist_val_acc)\n",
        "plt.legend(['train', 'test'])\n",
        "plt.show()\n",
        "\n",
        "plt.plot(hist_loss)\n",
        "plt.plot(hist_val_loss)\n",
        "plt.legend(['train', 'test'])\n",
        "plt.show\n",
        "print(f'train : {best_train}, val : {best}')"
      ],
      "execution_count": 484,
      "outputs": [
        {
          "output_type": "stream",
          "text": [
            "epochs : 0, loss : 0.6936 acc : 0.5132 val_acc : 0.6\n",
            "epochs : 50, loss : 0.6222 acc : 0.5087 val_acc : 0.4971\n",
            "epochs : 100, loss : 0.5739 acc : 0.509 val_acc : 0.4971\n",
            "epochs : 150, loss : 0.5933 acc : 0.508 val_acc : 0.5086\n",
            "epochs : 200, loss : 0.5278 acc : 0.509 val_acc : 0.4914\n",
            "=======================best val = 0.4914\n",
            "=======================best val = 0.4971\n",
            "=======================best val = 0.5029\n",
            "epochs : 250, loss : 0.4883 acc : 0.509 val_acc : 0.4857\n",
            "=======================best val = 0.52\n",
            "=======================best val = 0.5257\n",
            "=======================best val = 0.5314\n",
            "epochs : 300, loss : 0.5167 acc : 0.5076 val_acc : 0.4971\n",
            "epochs : 350, loss : 0.5372 acc : 0.509 val_acc : 0.4971\n",
            "epochs : 400, loss : 0.5247 acc : 0.509 val_acc : 0.4971\n",
            "epochs : 450, loss : 0.4977 acc : 0.509 val_acc : 0.4971\n"
          ],
          "name": "stdout"
        },
        {
          "output_type": "display_data",
          "data": {
            "image/png": "[encoded data removed]",
            "text/plain": [
              "<Figure size 432x288 with 1 Axes>"
            ]
          },
          "metadata": {
            "tags": [],
            "needs_background": "light"
          }
        },
        {
          "output_type": "stream",
          "text": [
            "train : 0.5096952908587258, val : 0.5314285714285715\n"
          ],
          "name": "stdout"
        },
        {
          "output_type": "display_data",
          "data": {
            "image/png": "[encoded data removed]",
            "text/plain": [
              "<Figure size 432x288 with 1 Axes>"
            ]
          },
          "metadata": {
            "tags": [],
            "needs_background": "light"
          }
        }
      ]
    },
    {
      "cell_type": "code",
      "metadata": {
        "id": "ahT-7RDFME7k",
        "colab_type": "code",
        "outputId": "42742133-78fb-4527-ae5b-e9a3684cfa09",
        "colab": {
          "base_uri": "https://localhost:8080/",
          "height": 628
        }
      },
      "source": [
        "net.load_state_dict(torch.load('last'))\n",
        "for x, _ in testloader:\n",
        "  predict = np.argmax(net(x).data.numpy(), axis=1)\n",
        "  print(net(x).data.numpy()[:10])\n",
        "\n",
        "profit = origin_test_set[seq_length-1,-1]\n",
        "profit_hist = []\n",
        "for i, p in enumerate(predict):\n",
        "  if p == 0:\n",
        "    profit = profit / test_percent[i]\n",
        "    profit_hist.append(profit)\n",
        "  elif p == 1:\n",
        "    profit = profit * test_percent[i]\n",
        "    profit_hist.append(profit)\n",
        "\n",
        "#profit_hist = np.append( np.ones(seq_length) * origin_test_set[seq_length-1,-1], np.array(profit_hist))\n",
        "\n",
        "plt.plot(profit_hist)\n",
        "plt.plot(origin_test_set[seq_length:,-1])\n",
        "plt.legend(['profit', 'stock'])\n",
        "plt.show()\n",
        "\n",
        "for x, _ in val_trainloader:\n",
        "  print(net(x).data.numpy()[:10])\n",
        "\n"
      ],
      "execution_count": 485,
      "outputs": [
        {
          "output_type": "stream",
          "text": [
            "[[ 5.398158  -5.5854177]\n",
            " [ 5.3375835 -5.5331297]\n",
            " [ 4.95308   -5.128267 ]\n",
            " [ 4.4982977 -4.6544127]\n",
            " [ 3.2507875 -3.3626628]\n",
            " [ 3.6845963 -3.811044 ]\n",
            " [ 3.6068976 -3.7286367]\n",
            " [ 2.834142  -2.927565 ]\n",
            " [ 2.5227635 -2.6059732]\n",
            " [ 2.4750073 -2.5589912]]\n"
          ],
          "name": "stdout"
        },
        {
          "output_type": "display_data",
          "data": {
            "image/png": "[encoded data removed]",
            "text/plain": [
              "<Figure size 432x288 with 1 Axes>"
            ]
          },
          "metadata": {
            "tags": [],
            "needs_background": "light"
          }
        },
        {
          "output_type": "stream",
          "text": [
            "[[-0.1795304   0.08232577]\n",
            " [-0.18082145  0.08020325]\n",
            " [-0.1766569   0.08823456]\n",
            " [-0.18251216  0.07341507]\n",
            " [-0.18200886  0.08289925]\n",
            " [-0.174899    0.08954491]\n",
            " [-0.1781542   0.08553819]\n",
            " [-0.18041305  0.06064265]\n",
            " [-0.16767693  0.09769233]\n",
            " [-0.17849633  0.07570046]]\n"
          ],
          "name": "stdout"
        }
      ]
    },
    {
      "cell_type": "code",
      "metadata": {
        "id": "PiQFwF0z1WEj",
        "colab_type": "code",
        "outputId": "795b9d4c-da89-4937-d6ce-f8f01acf9650",
        "colab": {
          "base_uri": "https://localhost:8080/",
          "height": 35
        }
      },
      "source": [
        "profit_hist[-1] / origin_test_set[seq_length-1,-1]"
      ],
      "execution_count": 486,
      "outputs": [
        {
          "output_type": "execute_result",
          "data": {
            "text/plain": [
              "array([1.013798], dtype=float32)"
            ]
          },
          "metadata": {
            "tags": []
          },
          "execution_count": 486
        }
      ]
    },
    {
      "cell_type": "code",
      "metadata": {
        "id": "ttcSjhfyl1hY",
        "colab_type": "code",
        "colab": {}
      },
      "source": [
        ""
      ],
      "execution_count": 0,
      "outputs": []
    }
  ]
}