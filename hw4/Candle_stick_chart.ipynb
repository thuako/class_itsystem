{
  "nbformat": 4,
  "nbformat_minor": 0,
  "metadata": {
    "colab": {
      "name": "Candle stick chart",
      "provenance": [],
      "collapsed_sections": [],
      "authorship_tag": "ABX9TyNPiJOdDIv2Qoh3XPdWwEF0",
      "include_colab_link": true
    },
    "kernelspec": {
      "name": "python3",
      "display_name": "Python 3"
    },
    "accelerator": "GPU"
  },
  "cells": [
    {
      "cell_type": "markdown",
      "metadata": {
        "id": "view-in-github",
        "colab_type": "text"
      },
      "source": [
        "<a href=\"https://colab.research.google.com/github/tjrgh822/class_itsystem/blob/master/hw4/Candle_stick_chart.ipynb\" target=\"_parent\"><img src=\"https://colab.research.google.com/assets/colab-badge.svg\" alt=\"Open In Colab\"/></a>"
      ]
    },
    {
      "cell_type": "code",
      "metadata": {
        "id": "vQSalDAqxggr",
        "colab_type": "code",
        "colab": {}
      },
      "source": [
        "import torch\n",
        "import torch.nn as nn\n",
        "import numpy as np\n",
        "import pandas as pd\n",
        "import torch.optim as optim\n",
        "import matplotlib.pyplot as plt\n",
        "import torch.nn.functional as F\n",
        "\n",
        "from google.colab import drive\n",
        "!pip install https://github.com/matplotlib/mpl_finance/archive/master.zip\n",
        "\n",
        "!wget https://raw.githubusercontent.com/tjrgh822/class_itsystem/master/hw4/KOSPI%20200%20Historical%20Data%203years.csv\n",
        "!wget https://raw.githubusercontent.com/tjrgh822/class_itsystem/master/hw4/KOSPI%20200%20Historical%20Data%20corona-2.csv\n",
        "!wget https://raw.githubusercontent.com/tjrgh822/class_itsystem/master/hw4/KOSPI%20200%20Historical%20Data%20corona.csv\n",
        "!wget https://raw.githubusercontent.com/tjrgh822/class_itsystem/master/hw4/KOSPI%20200%20Historical%20Data%20mortgage-2.csv\n",
        "!wget https://raw.githubusercontent.com/tjrgh822/class_itsystem/master/hw4/KOSPI%20200%20Historical%20Data%20mortgage-3.csv\n",
        "!wget https://raw.githubusercontent.com/tjrgh822/class_itsystem/master/hw4/KOSPI%20200%20Historical%20Data%20mortgage.csv\n",
        "!wget https://raw.githubusercontent.com/tjrgh822/class_itsystem/master/hw4/TSEC%20Taiwan%2050%20Historical%20Data.csv\n"
      ],
      "execution_count": 0,
      "outputs": []
    },
    {
      "cell_type": "code",
      "metadata": {
        "id": "mvhxfDdCyIBY",
        "colab_type": "code",
        "colab": {}
      },
      "source": [
        "\n",
        "torch.manual_seed(0)\n",
        "\n",
        "def investingcom_csv(dcsv):\n",
        "  dcsv = dcsv[::-1]\n",
        "  dcsv = dcsv[['Open', 'High', 'Low', \"Vol.\", 'Price', 'Change %' ]]\n",
        "  dcsv['Vol.'] = dcsv['Vol.'].str.replace(pat='M', repl='e6', regex=False) \n",
        "  dcsv['Vol.'] = dcsv['Vol.'].str.replace(pat='K', repl='e3', regex=False)\n",
        "  dcsv['Change %'] = dcsv['Change %'].astype(str).str.replace(pat='%', repl='', regex=False)\n",
        "\n",
        "  dcsv['Open'] = dcsv['Open'].astype(str).str.replace(pat=',', repl='', regex=False)\n",
        "  dcsv['High'] = dcsv['High'].astype(str).str.replace(pat=',', repl='', regex=False)\n",
        "  dcsv['Low'] = dcsv['Low'].astype(str).str.replace(pat=',', repl='', regex=False)\n",
        "  dcsv['Price'] = dcsv['Price'].astype(str).str.replace(pat=',', repl='', regex=False)\n",
        "  dcsv['Vol.'] = dcsv['Vol.'].astype(str).str.replace(pat=',', repl='', regex=False)\n",
        "  return dcsv\n",
        "\n",
        "def yahoo_csv(dcsv):\n",
        "  dcsv = dcsv[::-1]\n",
        "  dcsv = dcsv[['Open', 'High', 'Low', \"Volume\", 'Close', 'Change %' ]]\n",
        "  dcsv['Vol.'] = dcsv['Vol.'].str.replace(pat='M', repl='e6', regex=False) \n",
        "  dcsv['Vol.'] = dcsv['Vol.'].str.replace(pat='K', repl='e3', regex=False)\n",
        "  dcsv['Change %'] = dcsv['Change %'].astype(str).str.replace(pat='%', repl='', regex=False)\n",
        "\n",
        "  dcsv['Open'] = dcsv['Open'].astype(str).str.replace(pat=',', repl='', regex=False)\n",
        "  dcsv['High'] = dcsv['High'].astype(str).str.replace(pat=',', repl='', regex=False)\n",
        "  dcsv['Low'] = dcsv['Low'].astype(str).str.replace(pat=',', repl='', regex=False)\n",
        "  dcsv['Price'] = dcsv['Price'].astype(str).str.replace(pat=',', repl='', regex=False)\n",
        "  dcsv['Vol.'] = dcsv['Vol.'].astype(str).str.replace(pat=',', repl='', regex=False)\n",
        "  return dcsv\n",
        "\n",
        "#데이터 불러오기 -> investing.com 에서 historycal data로 불러왔다.\n",
        "\n",
        "corona = pd.read_csv(\"KOSPI 200 Historical Data corona-2.csv\")\n",
        "corona = investingcom_csv(corona)\n",
        "\n",
        "mortgage = pd.read_csv(\"KOSPI 200 Historical Data mortgage-3.csv\")\n",
        "mortgage = investingcom_csv(mortgage)\n",
        "\n",
        "\n",
        "three_years = pd.read_csv(\"KOSPI 200 Historical Data 3years.csv\")\n",
        "three_years = investingcom_csv(three_years)\n",
        "\n",
        "taiwan = pd.read_csv(\"TSEC Taiwan 50 Historical Data.csv\")\n",
        "taiwan = investingcom_csv(taiwan)"
      ],
      "execution_count": 0,
      "outputs": []
    },
    {
      "cell_type": "code",
      "metadata": {
        "id": "GFXLB_HWfHc6",
        "colab_type": "code",
        "colab": {}
      },
      "source": [
        "from mpl_finance import candlestick_ohlc\n",
        "import matplotlib.gridspec as gridspec\n",
        "\n",
        "from torch.utils.data import  TensorDataset, DataLoader\n",
        "from torch.utils.data import Dataset, DataLoader\n",
        "import torchvision\n",
        "from torchvision import transforms\n",
        "\n",
        "from matplotlib.backends.backend_agg import FigureCanvasAgg as FigureCanvas\n",
        "from matplotlib.figure import Figure\n",
        "\n",
        "no_data_bias = False\n",
        "\n",
        "def figure_to_array(fig):\n",
        "    \"\"\"\n",
        "    plt.figure를 RGBA로 변환(layer가 4개)\n",
        "    shape: height, width, layer\n",
        "    \"\"\"\n",
        "    fig.canvas.draw()\n",
        "    return np.array(fig.canvas.renderer._renderer)\n",
        "\n",
        "def csv_to_candlechart_numpy(csv, day_length):\n",
        "  candle_data = csv\n",
        "  labels = []\n",
        "  images =  []\n",
        "  for i in range(len(candle_data) - day_length):\n",
        "    fig = plt.figure(figsize=(3,3), dpi=50)\n",
        "    fig.set_facecolor('black')\n",
        "    axes = []\n",
        "    axes.append(plt.subplot())\n",
        "    x = np.arange(day_length)\n",
        "    ohlc = candle_data[['Open', 'High', 'Low', 'Price']].astype(float).values[i:i+day_length]\n",
        "    dohlc = np.hstack((np.reshape(x, (-1, 1)), ohlc))\n",
        "    \n",
        "    # 봉차트\n",
        "    candlestick_ohlc(axes[0], dohlc, width=0.5, colorup='r', colordown='b')\n",
        "    plt.tight_layout()\n",
        "    plt.axis('off')\n",
        "    #print('2')\n",
        "\n",
        "\n",
        "    #numpy 4dim\n",
        "    fig.canvas.draw()\n",
        "    _image = np.array(fig.canvas.renderer._renderer)\n",
        "    images.append(_image)\n",
        "    \n",
        "\n",
        "    # labels\n",
        "    fy = candle_data['Change %'].astype(np.float32).values[i+day_length]\n",
        "    if fy > 0.5:\n",
        "      _y = 2\n",
        "    elif np.abs(np.array(fy)) < 0.2:\n",
        "      _y = 1\n",
        "    else:\n",
        "      _y = 0\n",
        "    labels.append(_y)\n",
        "\n",
        "    plt.close(fig)\n",
        "\n",
        "\n",
        "  return  images, np.array(labels).reshape(-1, 1), np.array(csv['Change %'].values.astype(float)).reshape(-1, 1)\n",
        "\n",
        "if no_data_bias == True:\n",
        "\n",
        "  class CustomDataset(Dataset): \n",
        "    def __init__(self, x_data, y_data, z_data, out_dim):\n",
        "\n",
        "      self.xloader = transforms.Compose([ transforms.ToPILImage(), transforms.Resize(50),transforms.ToTensor()])\n",
        "      self.out_dim = out_dim\n",
        "\n",
        "      self.image = []\n",
        "      self.label = []\n",
        "      self.change = []\n",
        "      #label에 따라서 이미지, 증가율 분류\n",
        "      for i in range(out_dim):\n",
        "        idx = np.where( y_data == i)[0]\n",
        "        self.image.append(np.array( x_data)[idx])\n",
        "        self.label.append( np.array( y_data)[idx] )\n",
        "        self.change.append(np.array( z_data)[idx] )\n",
        "\n",
        "    # 제일 작은 label의 갯수를 output dim에 곱해서 전체 데이터셋 갯수 반환\n",
        "    def __len__(self):\n",
        "      num = 100000\n",
        "      for i in range(self.out_dim):\n",
        "        if num > len(self.label[i]):\n",
        "          num = len(self.label[i])\n",
        "      return num * self.out_dim\n",
        "\n",
        "    # idx를 받으면 몫, 나머지 구한후 image, label, change에 넣고 반환\n",
        "    def __getitem__(self, idx):\n",
        "      remain = idx % self.out_dim\n",
        "      quot = idx // self.out_dim\n",
        "      x = torch.FloatTensor( self.xloader(self.image[remain][quot]) ) / 255\n",
        "      y = torch.squeeze(torch.LongTensor( self.label[remain][quot] ))\n",
        "      z = self.change[remain][quot]\n",
        "      return x, y, z\n",
        "else:\n",
        "  class CustomDataset(Dataset): \n",
        "    def __init__(self, x_data, y_data, z_data):\n",
        "      self.x_data = x_data\n",
        "      self.y_data = y_data\n",
        "      self.xloader = transforms.Compose([ transforms.ToPILImage(), transforms.Resize(50),transforms.ToTensor()])\n",
        "      self.z_data = z_data\n",
        "    # 총 데이터의 개수를 리턴\n",
        "    def __len__(self): \n",
        "      return len(self.x_data)\n",
        "\n",
        "    # 인덱스를 입력받아 그에 맵핑되는 입출력 데이터를 파이토치의 Tensor 형태로 리턴\n",
        "    def __getitem__(self, idx): \n",
        "      x = torch.FloatTensor( self.xloader(self.x_data[idx]) )\n",
        "      y = torch.squeeze(torch.LongTensor( self.y_data[idx] ))\n",
        "      z = self.z_data[idx]\n",
        "      return x, y, z"
      ],
      "execution_count": 0,
      "outputs": []
    },
    {
      "cell_type": "code",
      "metadata": {
        "id": "POBMqTwdzW5Y",
        "colab_type": "code",
        "colab": {}
      },
      "source": [
        "# 데이터 선택 \n",
        "\n",
        "seq_length = 10\n",
        "\n",
        "DATASET = three_years\n",
        "\n",
        "if type(DATASET) != 'string':\n",
        "  trainX, trainY, train_change = csv_to_candlechart_numpy(DATASET.iloc[ : int(len(DATASET)*0.8) ], seq_length)\n",
        "  testX, testY, test_change = csv_to_candlechart_numpy(DATASET.iloc[int(len(DATASET)*0.8) :  ], seq_length)\n",
        "\n",
        "elif  DATASET is 'mortgage corona':\n",
        "  DATASET_train = mortgage\n",
        "  DATASET_test = corona\n",
        "\n",
        "  trainX, trainY, train_change = csv_to_candlechart_numpy(DATASET_train, seq_length)\n",
        "  testX, testY, test_change = csv_to_candlechart_numpy(DATASET_test, seq_length)\n",
        "\n"
      ],
      "execution_count": 0,
      "outputs": []
    },
    {
      "cell_type": "code",
      "metadata": {
        "id": "tIj3lKWG-s7h",
        "colab_type": "code",
        "outputId": "e17dd12a-1063-4e0c-9d63-68a4475f55e5",
        "colab": {
          "base_uri": "https://localhost:8080/",
          "height": 357
        }
      },
      "source": [
        "#custom data set으로 모든 label의 갯수를 동일하게 맞춤\n",
        "trainset = CustomDataset(trainX, trainY, train_change[seq_length:])\n",
        "testset = CustomDataset(testX, testY, test_change[seq_length:])\n",
        "\n",
        "#실제 모델에 batch size로 data를 넣어줄 함수\n",
        "trainloader = DataLoader(trainset, batch_size = 128, shuffle = False, num_workers= 1)\n",
        "testloader = DataLoader(testset, batch_size = 128, shuffle = False, num_workers= 1)\n",
        "\n",
        "plt.figure(figsize= (6, 6))\n",
        "for i in range(9):\n",
        "  plt.subplot(3, 3, i+1)\n",
        "  plt.imshow(trainX[i*10])\n",
        "  plt.axis('off')\n",
        "plt.show()\n",
        "\n",
        "#print(trainset.__len__(), testset.__len__())"
      ],
      "execution_count": 12,
      "outputs": [
        {
          "output_type": "display_data",
          "data": {
            "image/png": "[encoded data removed]",
            "text/plain": [
              "<Figure size 432x432 with 9 Axes>"
            ]
          },
          "metadata": {
            "tags": [],
            "needs_background": "light"
          }
        }
      ]
    },
    {
      "cell_type": "code",
      "metadata": {
        "id": "umKxnhoHtCRd",
        "colab_type": "code",
        "colab": {}
      },
      "source": [
        "device = 'cuda' if torch.cuda.is_available() else 'cpu'\n",
        "\n",
        "#vgg make layer\n",
        "class VGG(nn.Module):\n",
        "    def __init__(self, features, num_classes=1000, init_weights=True):\n",
        "        super(VGG, self).__init__()\n",
        "        self.features = features\n",
        "        #self.avgpool = nn.AdaptiveAvgPool2d((7, 7))\n",
        "\n",
        "        self.classifier = nn.Sequential(\n",
        "            nn.Linear(512, 1000),\n",
        "            nn.RReLU(),\n",
        "            nn.Dropout(),\n",
        "            nn.Linear(1000, 10),\n",
        "            nn.RReLU(),\n",
        "            nn.Dropout(),\n",
        "            nn.Linear(10, num_classes),\n",
        "            nn.Softmax()\n",
        "        )\n",
        "        if init_weights:\n",
        "            self._initialize_weights()\n",
        "\n",
        "    def forward(self, x):\n",
        "        x = self.features(x)\n",
        "        #x = self.avgpool(x)\n",
        "        x = x.view(x.size(0), -1)\n",
        "        x = self.classifier(x)\n",
        "        return x\n",
        "\n",
        "    def _initialize_weights(self):\n",
        "        for m in self.modules():\n",
        "            if isinstance(m, nn.Conv2d):\n",
        "                nn.init.kaiming_normal_(m.weight, mode='fan_out', nonlinearity='relu')\n",
        "                if m.bias is not None:\n",
        "                    nn.init.constant_(m.bias, 0)\n",
        "            elif isinstance(m, nn.BatchNorm2d):\n",
        "                nn.init.constant_(m.weight, 1)\n",
        "                nn.init.constant_(m.bias, 0)\n",
        "            elif isinstance(m, nn.Linear):\n",
        "                nn.init.normal_(m.weight, 0, 0.01)\n",
        "                nn.init.constant_(m.bias, 0)\n",
        "\n",
        "def make_layers(cfg, batch_norm=False):\n",
        "    layers = []\n",
        "    in_channels = 4\n",
        "\n",
        "    for v in cfg:\n",
        "        if v == 'M':\n",
        "            layers += [nn.MaxPool2d(kernel_size=2, stride=2)]\n",
        "        else:\n",
        "            conv2d = nn.Conv2d(in_channels, v, kernel_size=3, padding=1)\n",
        "            if batch_norm:\n",
        "                layers += [conv2d, nn.BatchNorm2d(v), nn.RReLU()]\n",
        "            else:\n",
        "                layers += [conv2d, nn.RReLU()]\n",
        "            in_channels = v\n",
        "\n",
        "    return nn.Sequential(*layers)\n",
        "cfg = [32,32,'M', 64,64,'M',128,128,128,'M',256,256,256,'M',512,512,512,'M'] #13 + 3 =vgg16\n",
        "vgg16= VGG(make_layers(cfg),2,True).to(device)\n",
        "\n",
        "vgg_criterion = nn.CrossEntropyLoss().to(device)\n",
        "vgg_optimizer = torch.optim.Adam(vgg16.parameters(), lr = 0.001)\n",
        "vgg_lr_sche = optim.lr_scheduler.StepLR(vgg_optimizer, step_size=7, gamma=0.9)\n",
        "\n"
      ],
      "execution_count": 0,
      "outputs": []
    },
    {
      "cell_type": "code",
      "metadata": {
        "id": "h1FzEdDO3H8q",
        "colab_type": "code",
        "outputId": "7e3f484d-2fab-4b66-eca2-e1c8bda485a7",
        "colab": {
          "base_uri": "https://localhost:8080/",
          "height": 224
        }
      },
      "source": [
        "epochs = 60\n",
        "\n",
        "train_loss_hist, test_loss_hist, train_acc_hist, test_acc_hist, train_profit_hist, test_profit_hist = [], [], [], [], [], []\n",
        "for epoch in range(epochs):  # loop over the dataset multiple times\n",
        "    vgg_running_loss, train_acc, train_profit = [], [], 1\n",
        "    vgg_lr_sche.step()\n",
        "    vgg16.train()\n",
        "    for inputs, labels, change in trainloader:\n",
        "        # get the inputs\n",
        "        inputs = inputs.to(device)\n",
        "        labels = labels.to(device)\n",
        "        # zero the parameter gradients\n",
        "        vgg_optimizer.zero_grad()\n",
        "        # forward + backward + optimize\n",
        "        vgg_outputs = vgg16(inputs)\n",
        "        vgg_loss = vgg_criterion(vgg_outputs, labels)\n",
        "        vgg_loss.backward()\n",
        "        vgg_optimizer.step()\n",
        "        # acc, loss, profit append\n",
        "        vgg_outputs_cpu = vgg_outputs.to('cpu')\n",
        "        acc = np.average(np.argmax(vgg_outputs_cpu.data.numpy(), axis =1) == labels.to('cpu').data.numpy())\n",
        "        train_acc.append(acc)\n",
        "        \n",
        "        vgg_running_loss.append(np.average(vgg_loss.item()))\n",
        "\n",
        "        for _p, _c in zip(np.argmax(vgg_outputs_cpu.data.numpy(), axis=1), change.data.numpy()):\n",
        "              if _p == 2:\n",
        "                output = (100 + _c)/100\n",
        "              elif _p ==1:\n",
        "                output = 1\n",
        "              else:\n",
        "                output = (100 - _c)/100\n",
        "              train_profit *= output\n",
        "\n",
        "    train_acc_hist.append( np.average(np.array(train_acc)) )\n",
        "    train_loss_hist.append(np.average( np.array(vgg_running_loss)))\n",
        "    train_profit_hist.append(float(train_profit))\n",
        "    vgg16.eval()\n",
        "    with torch.no_grad():\n",
        "        vgg_test_loss, test_acc, test_profit = [], [], 1\n",
        "        for inputs, labels, change in testloader:\n",
        "            # get the inputs\n",
        "            inputs = inputs.to(device)\n",
        "            labels = labels.to(device)\n",
        "            #print(inputs.shape, labels.shape)\n",
        "\n",
        "            # zero the parameter gradients\n",
        "            vgg_optimizer.zero_grad()\n",
        "            # forward\n",
        "            vgg_outputs = vgg16(inputs)\n",
        "            vgg_loss = vgg_criterion(vgg_outputs, labels)\n",
        "            \n",
        "            vgg_outputs_cpu = vgg_outputs.to('cpu')\n",
        "            acc = np.average(np.argmax(vgg_outputs_cpu.data.numpy(), axis=1) == labels.to('cpu').data.numpy())\n",
        "            test_acc.append(acc)\n",
        "            vgg_test_loss.append(np.average(vgg_loss.item()) )\n",
        "            for _p, _c in zip( np.argmax(vgg_outputs_cpu.data.numpy(), axis=1), change.data.numpy()):\n",
        "              if _p == 2:\n",
        "                output = (100 + _c)/100\n",
        "              elif _p ==1:\n",
        "                output = 1\n",
        "              else:\n",
        "                output = (100 - _c)/100\n",
        "              test_profit *= output\n",
        "              #print(output)\n",
        "          \n",
        "    test_acc_hist.append( np.average(np.array(test_acc)) )\n",
        "    test_loss_hist.append(np.average(np.array(vgg_test_loss)))\n",
        "    test_profit_hist.append(float(test_profit))\n",
        "    if epoch % 10 == 0:\n",
        "      print(f'epochs : {epoch +1}, loss : {train_loss_hist[-1]:.4} train_acc : {train_acc_hist[-1]:.4}, val_loss : {test_loss_hist[-1]:.4}', \n",
        "          f'val_acc : {test_acc_hist[-1]:.4}, train_profit : {train_profit_hist[-1]:.4} test_profit : {test_profit_hist[-1]:.4} ')"
      ],
      "execution_count": 14,
      "outputs": [
        {
          "output_type": "stream",
          "text": [
            "/usr/local/lib/python3.6/dist-packages/torch/optim/lr_scheduler.py:123: UserWarning: Detected call of `lr_scheduler.step()` before `optimizer.step()`. In PyTorch 1.1.0 and later, you should call them in the opposite order: `optimizer.step()` before `lr_scheduler.step()`.  Failure to do this will result in PyTorch skipping the first value of the learning rate schedule. See more details at https://pytorch.org/docs/stable/optim.html#how-to-adjust-learning-rate\n",
            "  \"https://pytorch.org/docs/stable/optim.html#how-to-adjust-learning-rate\", UserWarning)\n",
            "/usr/local/lib/python3.6/dist-packages/torch/nn/modules/container.py:100: UserWarning: Implicit dimension choice for softmax has been deprecated. Change the call to include dim=X as an argument.\n",
            "  input = module(input)\n"
          ],
          "name": "stderr"
        },
        {
          "output_type": "stream",
          "text": [
            "epochs : 1, loss : 1.449 train_acc : 0.5167, val_loss : -133.1 val_acc : 0.5231, train_profit : 1.088 test_profit : 0.9963 \n",
            "epochs : 11, loss : 0.5457 train_acc : 0.5183, val_loss : 7.035e+04 val_acc : 0.5231, train_profit : 1.064 test_profit : 0.9963 \n",
            "epochs : 21, loss : 0.5453 train_acc : 0.5183, val_loss : 7.351e+04 val_acc : 0.5231, train_profit : 1.044 test_profit : 0.9963 \n",
            "epochs : 31, loss : 0.5441 train_acc : 0.5183, val_loss : 7.353e+04 val_acc : 0.5231, train_profit : 1.052 test_profit : 0.9963 \n",
            "epochs : 41, loss : 0.5441 train_acc : 0.5183, val_loss : 7.353e+04 val_acc : 0.5231, train_profit : 1.044 test_profit : 0.9963 \n",
            "epochs : 51, loss : 0.5441 train_acc : 0.5183, val_loss : 7.353e+04 val_acc : 0.5231, train_profit : 1.044 test_profit : 0.9963 \n"
          ],
          "name": "stdout"
        }
      ]
    },
    {
      "cell_type": "code",
      "metadata": {
        "id": "d7ZCIZGiVrKJ",
        "colab_type": "code",
        "outputId": "6c4d08f6-fe2f-4398-b3de-97ee15e64c61",
        "colab": {
          "base_uri": "https://localhost:8080/",
          "height": 828
        }
      },
      "source": [
        "plt.figure()\n",
        "plt.title('Loss')\n",
        "plt.plot(train_loss_hist)\n",
        "plt.plot(test_loss_hist)\n",
        "plt.legend(['train loss', 'test loss'])\n",
        "plt.show()\n",
        "\n",
        "plt.figure()\n",
        "plt.title('Accuracy')\n",
        "plt.plot(train_acc_hist)\n",
        "plt.plot(test_acc_hist)\n",
        "plt.legend(['train acc', 'test acc'])\n",
        "plt.show()\n",
        "\n",
        "plt.figure()\n",
        "plt.title('Profit')\n",
        "plt.plot(train_profit_hist)\n",
        "plt.plot(test_profit_hist)\n",
        "plt.legend(['profit', 'stock'])\n",
        "\n",
        "plt.show()"
      ],
      "execution_count": 15,
      "outputs": [
        {
          "output_type": "display_data",
          "data": {
            "image/png": "[encoded data removed]",
            "text/plain": [
              "<Figure size 432x288 with 1 Axes>"
            ]
          },
          "metadata": {
            "tags": [],
            "needs_background": "light"
          }
        },
        {
          "output_type": "display_data",
          "data": {
            "image/png": "[encoded data removed]",
            "text/plain": [
              "<Figure size 432x288 with 1 Axes>"
            ]
          },
          "metadata": {
            "tags": [],
            "needs_background": "light"
          }
        },
        {
          "output_type": "display_data",
          "data": {
            "image/png": "[encoded data removed]",
            "text/plain": [
              "<Figure size 432x288 with 1 Axes>"
            ]
          },
          "metadata": {
            "tags": [],
            "needs_background": "light"
          }
        },
        {
          "output_type": "stream",
          "text": [
            "73527.76478220522\n"
          ],
          "name": "stdout"
        }
      ]
    },
    {
      "cell_type": "code",
      "metadata": {
        "id": "xxsU7RvmBTXp",
        "colab_type": "code",
        "outputId": "06a4b8ba-2a92-49e0-d710-6665dae3bbc9",
        "colab": {
          "base_uri": "https://localhost:8080/",
          "height": 357
        }
      },
      "source": [
        "#profit 출력\n",
        "\n",
        "with torch.no_grad():\n",
        "\n",
        "    test_profit = 1\n",
        "    price = 1\n",
        "    #print(price)\n",
        "    profit_hist, price_hist = np.zeros(1), np.zeros(1)\n",
        "    for inputs, labels, change in testloader:\n",
        "        # get the inputs\n",
        "        inputs = inputs.to(device)\n",
        "        labels = labels.to(device)\n",
        "        #print(inputs.shape, labels.shape)\n",
        "\n",
        "        # zero the parameter gradients\n",
        "        vgg_optimizer.zero_grad()\n",
        "        # forward\n",
        "        vgg_outputs = vgg16(inputs)\n",
        "        vgg_loss = vgg_criterion(vgg_outputs, labels)\n",
        "        \n",
        "        vgg_outputs_cpu = vgg_outputs.to('cpu')\n",
        "        acc = np.average(np.argmax(vgg_outputs_cpu.data.numpy(), axis=1) == labels.to('cpu').data.numpy())\n",
        "        for _p, _c in zip( np.argmax(vgg_outputs_cpu.data.numpy(), axis=1), change.data.numpy()):\n",
        "          if _p == 2:\n",
        "            output = (100 + _c)/100\n",
        "          elif _p ==1:\n",
        "            output = 1\n",
        "          else:\n",
        "            output = (100 - _c)/100\n",
        "          test_profit *= output\n",
        "          profit_hist = np.append(profit_hist, np.array(test_profit))\n",
        "          \n",
        "          price *= (100 + _c)/100\n",
        "          price_hist = np.append(price_hist, np.array(price))\n",
        "    profit_hist = np.delete(profit_hist, 0)\n",
        "    price_hist = np.delete(price_hist, 0)\n",
        "\n",
        "    plt.figure()\n",
        "    plt.title('profit')\n",
        "    plt.plot(profit_hist)\n",
        "    plt.plot(np.array(price_hist).reshape(-1))\n",
        "    plt.legend(['profit', 'stock'])\n",
        "    plt.show()\n",
        "\n",
        "    print(f' 총 수익률 : {profit_hist[-1]}')"
      ],
      "execution_count": 17,
      "outputs": [
        {
          "output_type": "stream",
          "text": [
            "/usr/local/lib/python3.6/dist-packages/torch/nn/modules/container.py:100: UserWarning: Implicit dimension choice for softmax has been deprecated. Change the call to include dim=X as an argument.\n",
            "  input = module(input)\n"
          ],
          "name": "stderr"
        },
        {
          "output_type": "display_data",
          "data": {
            "image/png": "[encoded data removed]",
            "text/plain": [
              "<Figure size 432x288 with 1 Axes>"
            ]
          },
          "metadata": {
            "tags": [],
            "needs_background": "light"
          }
        },
        {
          "output_type": "stream",
          "text": [
            " 총 수익률 : 0.9962997273266366\n"
          ],
          "name": "stdout"
        }
      ]
    }
  ]
}