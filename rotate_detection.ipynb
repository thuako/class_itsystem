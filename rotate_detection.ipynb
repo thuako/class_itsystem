{
  "nbformat": 4,
  "nbformat_minor": 0,
  "metadata": {
    "colab": {
      "name": "rotate_detection.ipynb",
      "provenance": [],
      "private_outputs": true,
      "collapsed_sections": [],
      "authorship_tag": "ABX9TyPyX5Cj1fOqgkFpxN6/2Bie",
      "include_colab_link": true
    },
    "kernelspec": {
      "name": "python3",
      "display_name": "Python 3"
    }
  },
  "cells": [
    {
      "cell_type": "markdown",
      "metadata": {
        "id": "view-in-github",
        "colab_type": "text"
      },
      "source": [
        "<a href=\"https://colab.research.google.com/github/tjrgh822/class_itsystem/blob/master/rotate_detection.ipynb\" target=\"_parent\"><img src=\"https://colab.research.google.com/assets/colab-badge.svg\" alt=\"Open In Colab\"/></a>"
      ]
    },
    {
      "cell_type": "code",
      "metadata": {
        "id": "utZQoZrAXyJl",
        "colab_type": "code",
        "colab": {}
      },
      "source": [
        "import tensorflow as tf\n",
        "import numpy as np\n",
        "import tensorflow_addons as tfa\n",
        "import matplotlib.pyplot as plt\n",
        "from tensorflow import keras\n",
        "from tensorflow.keras.datasets import mnist\n",
        "from tensorflow import keras\n",
        "from tensorflow.keras import Model\n",
        "from tensorflow.keras.layers import Convolution2D, MaxPooling2D, Dropout, Flatten, Dense, Input\n",
        "\n",
        "from numpy import expand_dims\n",
        "from keras.preprocessing.image import load_img\n",
        "from keras.preprocessing.image import img_to_array\n",
        "from keras.preprocessing.image import ImageDataGenerator\n",
        "\n",
        "train, test= mnist.load_data()\n",
        "train_data, train_labels, test_data, test_labels = train[0], train[1], test[0], test[1]"
      ],
      "execution_count": 0,
      "outputs": []
    },
    {
      "cell_type": "code",
      "metadata": {
        "id": "6m8i9SbDjZxU",
        "colab_type": "code",
        "colab": {}
      },
      "source": [
        "from scipy import ndimage, misc\n",
        "from PIL import Image\n",
        "data = img_to_array(train_data)\n",
        "rotate_class = range(0, 90, 5)\n",
        "\n",
        "\n",
        "data = data.reshape(-1, 28, 28, 1)\n",
        "random_angle = np.random.choice(rotate_class,  train_data.shape[0]).astype(np.float32)\n",
        "\n",
        "rotate_data = np.zeros((1, 28, 28, 1), dtype=np.float32)\n",
        "for i in range(data.shape[0]):\n",
        "  tmp = Image.fromarray(np.squeeze(ndimage.rotate(data[i], random_angle[i])))\n",
        "  rotate_data = np.append(rotate_data, tmp)\n",
        "rotate_data = np.delete(rotate_data, 0, axis=0)\n",
        "\n",
        "rotate_data.shape\n",
        "\n",
        "\n",
        "#rotate_data = rotate_data.reshape(-1, 34, 34, 1)\n",
        "\n",
        "'''rotate_labels = random_angle\n",
        "\n",
        "for i in np.random.randint(0, 1000, 10):\n",
        "  plt.figure()\n",
        "  plt.imshow(rotate_data[i])'''\n",
        "\n"
      ],
      "execution_count": 0,
      "outputs": []
    },
    {
      "cell_type": "code",
      "metadata": {
        "id": "gkH5ymWG3NFM",
        "colab_type": "code",
        "colab": {}
      },
      "source": [
        "import cv2\n",
        "import imutils\n",
        "data = train_data\n",
        "rotate_class = range(0, 90, 5)\n",
        "\n",
        "\n",
        "data = data.reshape(-1, 28, 28)\n",
        "random_angle = np.random.choice(rotate_class,  train_data.shape[0])\n",
        "\n",
        "a = imutils.rotate(data[i], random_angle[i])\n",
        "\n",
        "print(a.dtype)\n",
        "\n",
        "rotate_data = np.zeros(1, dtype=np.uint8)\n",
        "for i in range(len(data)):\n",
        "  rotate_data = np.append(rotate_data, np.array(imutils.rotate(data[i], random_angle[i])))\n",
        "  if i % 10000 == 0:\n",
        "    print(i)\n",
        "\n",
        "rotate_data = np.delete(rotate_data, 0).reshape(-1, 28, 28, 1)\n"
      ],
      "execution_count": 0,
      "outputs": []
    },
    {
      "cell_type": "code",
      "metadata": {
        "id": "O1J9ZzVa-Iuv",
        "colab_type": "code",
        "colab": {}
      },
      "source": [
        "np.save('rotate_data.npy', rotate_data)"
      ],
      "execution_count": 0,
      "outputs": []
    },
    {
      "cell_type": "code",
      "metadata": {
        "id": "2F80tjf-uZoJ",
        "colab_type": "code",
        "colab": {}
      },
      "source": [
        "data = img_to_array(test_data)\n",
        "rotate_class = range(0, 90, 5)\n",
        "\n",
        "\n",
        "data = data.reshape(-1, 28, 28, 1)\n",
        "random_angle = np.random.choice(rotate_class,  train_data.shape[0]).astype(np.float32)\n",
        "test_rotate_data = np.array([np.squeeze(ndimage.rotate(data[i], random_angle[i])) for i in range(data.shape[0])])\n",
        "\n",
        "test_rotate_data = test_rotate_data.resahpe(-1, 34, 34, 1)\n",
        "\n",
        "test_rotate_labels = random_angle"
      ],
      "execution_count": 0,
      "outputs": []
    },
    {
      "cell_type": "code",
      "metadata": {
        "id": "wpg5fw7emwqM",
        "colab_type": "code",
        "colab": {}
      },
      "source": [
        "np.save(\"rotate_data.npy\", rotate_data)"
      ],
      "execution_count": 0,
      "outputs": []
    },
    {
      "cell_type": "code",
      "metadata": {
        "id": "wd9Z6ySJp5Yj",
        "colab_type": "code",
        "colab": {}
      },
      "source": [
        "np.save(\"rotate_labels.npy\", rotate_labels)"
      ],
      "execution_count": 0,
      "outputs": []
    },
    {
      "cell_type": "code",
      "metadata": {
        "id": "CRZsyiZYiSTq",
        "colab_type": "code",
        "colab": {}
      },
      "source": [
        "def angle_difference(x, y):\n",
        "    \"\"\"\n",
        "    Calculate minimum difference between two angles.\n",
        "    \"\"\"\n",
        "    return 180 - abs(abs(x - y) - 180)\n",
        "\n",
        "\n",
        "def angle_error(y_true, y_pred):\n",
        "    \"\"\"\n",
        "    Calculate the mean diference between the true angles\n",
        "    and the predicted angles. Each angle is represented\n",
        "    as a binary vector.\n",
        "    \"\"\"\n",
        "    diff = angle_difference(K.argmax(y_true), K.argmax(y_pred))\n",
        "    return K.mean(K.cast(K.abs(diff), K.floatx()))\n",
        "\n",
        "\n",
        "def angle_error_regression(y_true, y_pred):\n",
        "    \"\"\"\n",
        "    Calculate the mean diference between the true angles\n",
        "    and the predicted angles. Each angle is represented\n",
        "    as a float number between 0 and 1.\n",
        "    \"\"\"\n",
        "    return K.mean(angle_difference(y_true * 360, y_pred * 360))\n",
        "\n",
        "'''    datagen = ImageDataGenerator( width_shift_range=5, \n",
        "                             height_shift_range=5, \n",
        "                             horizontal_flip=True, \n",
        "                             vertical_flip=True,\n",
        "                             brightness_range = [0.2, 1.0],\n",
        "                             zoom_range = [0.5, 1.0]\n",
        "                             )'''\n",
        "datagen = ImageDataGenerator()                             "
      ],
      "execution_count": 0,
      "outputs": []
    },
    {
      "cell_type": "code",
      "metadata": {
        "id": "rphjyQMlaCFa",
        "colab_type": "code",
        "colab": {}
      },
      "source": [
        "from tensorflow.keras.callbacks import ModelCheckpoint, TensorBoard, EarlyStopping\n",
        "nb_filters = 64\n",
        "pool_size = (2, 2)\n",
        "kernel_size = (3, 3)\n",
        "nb_classes = 18\n",
        "\n",
        "# model definition\n",
        "inputs = Input(shape=(34, 34, 1))\n",
        "x = Convolution2D(nb_filters, kernel_size[0], kernel_size[1],\n",
        "                  activation='relu')(inputs)\n",
        "x = Convolution2D(nb_filters, kernel_size[0], kernel_size[1],\n",
        "                  activation='relu')(x)\n",
        "x = MaxPooling2D(pool_size=(2, 2))(x)\n",
        "x = Dropout(0.25)(x)\n",
        "x = Flatten()(x)\n",
        "x = Dense(128, activation='relu')(x)\n",
        "x = Dropout(0.25)(x)\n",
        "x = Dense(nb_classes, activation='softmax')(x)\n",
        "\n",
        "model = Model(inputs, x)\n",
        "\n",
        "model.compile(loss='categorical_crossentropy',\n",
        "              optimizer='adam',\n",
        "              metrics=[angle_error])\n",
        "\n",
        "model.summary()\n",
        "\n",
        "\n",
        "\n",
        "\n",
        "\n"
      ],
      "execution_count": 0,
      "outputs": []
    },
    {
      "cell_type": "code",
      "metadata": {
        "id": "7dwXPjDZsQbe",
        "colab_type": "code",
        "colab": {}
      },
      "source": [
        "batch = 100\n",
        "epochs = 10\n",
        "\n",
        "# callbacks\n",
        "checkpointer = ModelCheckpoint(\n",
        "    filepath='model.h5',\n",
        "    save_best_only=True\n",
        ")\n",
        "early_stopping = EarlyStopping(patience=2)\n",
        "tensorboard = TensorBoard()\n",
        "\n",
        "callbacks=[checkpointer, early_stopping, tensorboard]\n",
        "\n",
        "model.fit(datagen.flow(rotate_data, rotate_labels, batch_size=batch), \n",
        "          steps_per_epoch=len(rotate_data) / batch, \n",
        "          epochs = epochs, \n",
        "          validation_data = datagen.flow(test_rotate_data, test_rotate_labels),\n",
        "          callbacks= callbacks\n",
        "          )\n"
      ],
      "execution_count": 0,
      "outputs": []
    },
    {
      "cell_type": "code",
      "metadata": {
        "id": "tpjhcFwzvgYo",
        "colab_type": "code",
        "colab": {}
      },
      "source": [
        "from google.colab import drive\n",
        "\n",
        "drive.mount('/content/gdrive')"
      ],
      "execution_count": 0,
      "outputs": []
    },
    {
      "cell_type": "code",
      "metadata": {
        "id": "dsqodl21AB7s",
        "colab_type": "code",
        "colab": {}
      },
      "source": [
        ""
      ],
      "execution_count": 0,
      "outputs": []
    }
  ]
}