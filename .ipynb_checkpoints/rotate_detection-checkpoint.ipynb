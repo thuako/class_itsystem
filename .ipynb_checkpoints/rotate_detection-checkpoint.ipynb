{
 "cells": [
  {
   "cell_type": "markdown",
   "metadata": {
    "colab_type": "text",
    "id": "view-in-github"
   },
   "source": [
    "<a href=\"https://colab.research.google.com/github/tjrgh822/class_itsystem/blob/master/rotate_detection.ipynb\" target=\"_parent\"><img src=\"https://colab.research.google.com/assets/colab-badge.svg\" alt=\"Open In Colab\"/></a>"
   ]
  },
  {
   "cell_type": "code",
   "execution_count": 0,
   "metadata": {
    "colab": {},
    "colab_type": "code",
    "id": "utZQoZrAXyJl"
   },
   "outputs": [],
   "source": [
    "import tensorflow as tf\n",
    "import numpy as np\n",
    "import tensorflow_addons as tfa\n",
    "import matplotlib.pyplot as plt\n",
    "from tensorflow import keras\n",
    "from tensorflow.keras.datasets import mnist\n",
    "from tensorflow import keras\n",
    "from tensorflow.keras import Model\n",
    "from tensorflow.keras.layers import Convolution2D, MaxPooling2D, Dropout, Flatten, Dense, Input\n",
    "\n",
    "from numpy import expand_dims\n",
    "from keras.preprocessing.image import load_img\n",
    "from keras.preprocessing.image import img_to_array\n",
    "from keras.preprocessing.image import ImageDataGenerator\n",
    "\n",
    "import pandas as pd\n",
    "from google.colab import drive\n",
    "drive.mount('/content/drive')\n",
    "\n"
   ]
  },
  {
   "cell_type": "code",
   "execution_count": 0,
   "metadata": {
    "colab": {},
    "colab_type": "code",
    "id": "6m8i9SbDjZxU"
   },
   "outputs": [],
   "source": [
    "train, test= mnist.load_data()\n",
    "train_data, train_labels, test_data, test_labels = train[0], train[1], test[0], test[1]\n",
    "import imutils\n",
    "\n",
    "def rotate_image(data, rotate_class, filepath, filename1, filename2):\n",
    "  data = data.reshape(-1, 28, 28)\n",
    "  random_angle = np.random.choice(rotate_class,  data.shape[0])\n",
    "\n",
    "  rotate_data = np.zeros(1, dtype=np.uint8)\n",
    "  for i in range(len(data)):\n",
    "    rotate_data = np.append(rotate_data, np.array(imutils.rotate(data[i], random_angle[i])))\n",
    "    if i % 10000 == 0:\n",
    "      print(i)\n",
    "  rotate_data = np.delete(rotate_data, 0).reshape(-1, 28, 28, 1)\n",
    "  np.save(f'{filepath}/{filename1}.npy', rotate_data)\n",
    "  np.save(f'{filepath}/{filename2}.npy', random_angle)\n",
    "\n",
    "\n",
    "rotate_image(test_data, range(-45, +45, 5), '/content/drive/My Drive', 'test_rotate_data+-45', 'test_rotate_labels+-45')\n",
    "\n"
   ]
  },
  {
   "cell_type": "code",
   "execution_count": 0,
   "metadata": {
    "colab": {},
    "colab_type": "code",
    "id": "OMY2FznlPt7H"
   },
   "outputs": [],
   "source": [
    "\n",
    "\n",
    "def onehotencoding(data, case):\n",
    "  encoding = np.eye(len(case))[data]\n",
    "  return encoding\n",
    "\n",
    "train_x = np.load('/content/drive/My Drive/rotate_data+-45.npy')\n",
    "train_y = np.load('/content/drive/My Drive/rotate_labels+-45.npy')\n",
    "test_x = np.load('/content/drive/My Drive/test_rotate_data+-45.npy')\n",
    "test_y = np.load('/content/drive/My Drive/test_rotate_labels+-45.npy')\n",
    "\n",
    "train_y = onehotencoding(np.int32(train_y*0.2 + 9), list(range(-45, +45, 5)))\n",
    "test_y = onehotencoding(np.int32(test_y*0.2 + 9), list(range(-45, +45, 5)))\n",
    "\n",
    "\n",
    "\n",
    "datagen = ImageDataGenerator()\n"
   ]
  },
  {
   "cell_type": "code",
   "execution_count": 0,
   "metadata": {
    "colab": {},
    "colab_type": "code",
    "id": "CRZsyiZYiSTq"
   },
   "outputs": [],
   "source": [
    "import tensorflow.keras.backend as K\n",
    "\n",
    "def angle_difference(x, y):\n",
    "    \"\"\"\n",
    "    Calculate minimum difference between two angles.\n",
    "    \"\"\"\n",
    "    return 180 - abs(abs(x - y) - 180)\n",
    "\n",
    "\n",
    "def angle_error(y_true, y_pred):\n",
    "    \"\"\"\n",
    "    Calculate the mean diference between the true angles\n",
    "    and the predicted angles. Each angle is represented\n",
    "    as a binary vector.\n",
    "    \"\"\"\n",
    "    diff = angle_difference(K.argmax(y_true), K.argmax(y_pred))\n",
    "    return K.mean(K.cast(K.abs(diff), K.floatx()))\n",
    "\n",
    "\n",
    "def angle_error_regression(y_true, y_pred):\n",
    "    \"\"\"\n",
    "    Calculate the mean diference between the true angles\n",
    "    and the predicted angles. Each angle is represented\n",
    "    as a float number between 0 and 1.\n",
    "    \"\"\"\n",
    "    return K.mean(angle_difference(y_true * 360, y_pred * 360))\n",
    "\n",
    "'''    datagen = ImageDataGenerator( width_shift_range=5, \n",
    "                             height_shift_range=5, \n",
    "                             horizontal_flip=True, \n",
    "                             vertical_flip=True,\n",
    "                             brightness_range = [0.2, 1.0],\n",
    "                             zoom_range = [0.5, 1.0]\n",
    "                             )'''\n"
   ]
  },
  {
   "cell_type": "code",
   "execution_count": 0,
   "metadata": {
    "colab": {},
    "colab_type": "code",
    "id": "rphjyQMlaCFa"
   },
   "outputs": [],
   "source": [
    "from tensorflow.keras.callbacks import ModelCheckpoint, TensorBoard, EarlyStopping\n",
    "nb_filters = 64\n",
    "pool_size = (2, 2)\n",
    "kernel_size = (3, 3)\n",
    "nb_classes = 18\n",
    "\n",
    "# model definition\n",
    "inputs = Input(shape=(34, 34, 1))\n",
    "x = Convolution2D(nb_filters, kernel_size[0], kernel_size[1],\n",
    "                  activation='relu')(inputs)\n",
    "x = Convolution2D(nb_filters, kernel_size[0], kernel_size[1],\n",
    "                  activation='relu')(x)\n",
    "x = MaxPooling2D(pool_size=(2, 2))(x)\n",
    "x = Dropout(0.25)(x)\n",
    "x = Flatten()(x)\n",
    "x = Dense(128, activation='relu')(x)\n",
    "x = Dropout(0.25)(x)\n",
    "x = Dense(nb_classes, activation='softmax')(x)\n",
    "\n",
    "model = Model(inputs, x)\n",
    "\n",
    "model.compile(loss='categorical_crossentropy',\n",
    "              optimizer='adam',\n",
    "              metrics=[angle_error])\n",
    "\n",
    "model.summary()\n",
    "\n",
    "\n",
    "\n",
    "\n",
    "\n"
   ]
  },
  {
   "cell_type": "code",
   "execution_count": 0,
   "metadata": {
    "colab": {},
    "colab_type": "code",
    "id": "7dwXPjDZsQbe"
   },
   "outputs": [],
   "source": [
    "batch = 30\n",
    "epochs = 10\n",
    "\n",
    "# callbacks\n",
    "checkpointer = ModelCheckpoint(\n",
    "    filepath='model_1.h5',\n",
    "    save_best_only=True\n",
    ")\n",
    "early_stopping = EarlyStopping(patience=30)\n",
    "\n",
    "callbacks=[checkpointer, early_stopping]\n",
    "\n",
    "model.fit(datagen.flow(train_x, train_y, batch_size=batch), \n",
    "          epochs = epochs,\n",
    "          steps_per_epoch = train_x.shape[0]/ batch,\n",
    "          validation_data = datagen.flow(test_x, test_y, batch_size= 1),\n",
    "          validation_steps = train_y.shape[0], \n",
    "          verbose = 1\n",
    "          )\n",
    "\n",
    "\n"
   ]
  }
 ],
 "metadata": {
  "colab": {
   "authorship_tag": "ABX9TyOWgA78b0rZoAZJaNdGN+9h",
   "collapsed_sections": [],
   "include_colab_link": true,
   "name": "rotate_detection.ipynb",
   "provenance": [],
   "toc_visible": true
  },
  "kernelspec": {
   "display_name": "Python 3",
   "language": "python",
   "name": "python3"
  },
  "language_info": {
   "codemirror_mode": {
    "name": "ipython",
    "version": 3
   },
   "file_extension": ".py",
   "mimetype": "text/x-python",
   "name": "python",
   "nbconvert_exporter": "python",
   "pygments_lexer": "ipython3",
   "version": "3.6.9"
  }
 },
 "nbformat": 4,
 "nbformat_minor": 1
}
