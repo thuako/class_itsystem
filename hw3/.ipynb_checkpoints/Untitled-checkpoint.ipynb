{
 "cells": [
  {
   "cell_type": "code",
   "execution_count": 1,
   "metadata": {},
   "outputs": [
    {
     "name": "stderr",
     "output_type": "stream",
     "text": [
      "Using TensorFlow backend.\n"
     ]
    }
   ],
   "source": [
    "# tensorflow와 tf.keras를 임포트합니다\n",
    "import tensorflow as tf\n",
    "import keras\n",
    "\n",
    "# 헬퍼(helper) 라이브러리를 임포트합니다\n",
    "import numpy as np\n",
    "import matplotlib.pyplot as plt\n"
   ]
  },
  {
   "cell_type": "code",
   "execution_count": 2,
   "metadata": {},
   "outputs": [],
   "source": [
    "fashion_mnist = keras.datasets.mnist\n",
    "(train_images, train_labels), (test_images, test_labels) = fashion_mnist.load_data()\n",
    "\n",
    "train_images = train_images.reshape(-1, 28, 28, 1)\n",
    "test_images = test_images.reshape(-1, 28, 28, 1)"
   ]
  },
  {
   "cell_type": "code",
   "execution_count": 3,
   "metadata": {},
   "outputs": [
    {
     "data": {
      "text/plain": [
       "(10000, 28, 28, 1)"
      ]
     },
     "execution_count": 3,
     "metadata": {},
     "output_type": "execute_result"
    }
   ],
   "source": [
    "class_names = ['0', '1', '2', '3', '4', '5', '6', '7', '8', '9']\n",
    "\n",
    "test_images.shape"
   ]
  },
  {
   "cell_type": "code",
   "execution_count": 4,
   "metadata": {},
   "outputs": [
    {
     "data": {
      "text/plain": [
       "'tmp_batch_train = int(len(train_images)/200)\\nfor i in range(0, len(train_images), tmp_batch_train):\\n    train_images[i:(i+tmp_batch_train)] = train_images[i:(i+tmp_batch_train)] / 255.0\\ntmp_batch_test = int(len(test_images)/100)\\nfor i in range(0, len(test_images), tmp_batch_test):\\n    test_images[i:(i + tmp_batch_test)] = test_images[i:(i + tmp_batch_test)] / 255.0'"
      ]
     },
     "execution_count": 4,
     "metadata": {},
     "output_type": "execute_result"
    }
   ],
   "source": [
    "'''tmp_batch_train = int(len(train_images)/200)\n",
    "for i in range(0, len(train_images), tmp_batch_train):\n",
    "    train_images[i:(i+tmp_batch_train)] = train_images[i:(i+tmp_batch_train)] / 255.0\n",
    "tmp_batch_test = int(len(test_images)/100)\n",
    "for i in range(0, len(test_images), tmp_batch_test):\n",
    "    test_images[i:(i + tmp_batch_test)] = test_images[i:(i + tmp_batch_test)] / 255.0'''"
   ]
  },
  {
   "cell_type": "code",
   "execution_count": 5,
   "metadata": {},
   "outputs": [
    {
     "name": "stdout",
     "output_type": "stream",
     "text": [
      "WARNING:tensorflow:From /usr/local/lib/python3.6/dist-packages/tensorflow_core/python/ops/resource_variable_ops.py:1630: calling BaseResourceVariable.__init__ (from tensorflow.python.ops.resource_variable_ops) with constraint is deprecated and will be removed in a future version.\n",
      "Instructions for updating:\n",
      "If using Keras pass *_constraint arguments to layers.\n",
      "WARNING:tensorflow:From /usr/local/lib/python3.6/dist-packages/keras/backend/tensorflow_backend.py:4070: The name tf.nn.max_pool is deprecated. Please use tf.nn.max_pool2d instead.\n",
      "\n",
      "Model: \"sequential_1\"\n",
      "_________________________________________________________________\n",
      "Layer (type)                 Output Shape              Param #   \n",
      "=================================================================\n",
      "conv2d_1 (Conv2D)            (None, 26, 26, 32)        320       \n",
      "_________________________________________________________________\n",
      "max_pooling2d_1 (MaxPooling2 (None, 13, 13, 32)        0         \n",
      "_________________________________________________________________\n",
      "conv2d_2 (Conv2D)            (None, 11, 11, 64)        18496     \n",
      "_________________________________________________________________\n",
      "max_pooling2d_2 (MaxPooling2 (None, 5, 5, 64)          0         \n",
      "_________________________________________________________________\n",
      "conv2d_3 (Conv2D)            (None, 3, 3, 64)          36928     \n",
      "_________________________________________________________________\n",
      "flatten_1 (Flatten)          (None, 576)               0         \n",
      "_________________________________________________________________\n",
      "dense_1 (Dense)              (None, 64)                36928     \n",
      "_________________________________________________________________\n",
      "dense_2 (Dense)              (None, 10)                650       \n",
      "=================================================================\n",
      "Total params: 93,322\n",
      "Trainable params: 93,322\n",
      "Non-trainable params: 0\n",
      "_________________________________________________________________\n"
     ]
    }
   ],
   "source": [
    "model = keras.Sequential([\n",
    "    keras.layers.Conv2D(32, (3,3), activation= 'relu', input_shape=(28, 28, 1)),\n",
    "    keras.layers.MaxPooling2D((2,2)),\n",
    "    keras.layers.Conv2D(64, (3, 3), activation='relu'),\n",
    "    keras.layers.MaxPooling2D((2,2)),\n",
    "    keras.layers.Conv2D(64, (3, 3), activation='relu'),\n",
    "    keras.layers.Flatten(),\n",
    "    keras.layers.Dense(64, activation='relu'),\n",
    "    keras.layers.Dense(10, activation='softmax')\n",
    "])\n",
    "\n",
    "model.compile(optimizer='adam',\n",
    "              loss='sparse_categorical_crossentropy',\n",
    "              metrics=['accuracy'])\n",
    "\n",
    "model.summary()"
   ]
  },
  {
   "cell_type": "code",
   "execution_count": 6,
   "metadata": {},
   "outputs": [
    {
     "name": "stdout",
     "output_type": "stream",
     "text": [
      "WARNING:tensorflow:From /usr/local/lib/python3.6/dist-packages/keras/backend/tensorflow_backend.py:422: The name tf.global_variables is deprecated. Please use tf.compat.v1.global_variables instead.\n",
      "\n",
      "Epoch 1/1\n",
      "60000/60000 [==============================] - 34s 561us/step - loss: 0.2205 - accuracy: 0.9441\n"
     ]
    },
    {
     "data": {
      "text/plain": [
       "<keras.callbacks.callbacks.History at 0x7f22091cdeb8>"
      ]
     },
     "execution_count": 6,
     "metadata": {},
     "output_type": "execute_result"
    }
   ],
   "source": [
    "batch = 20\n",
    "epochs = 5\n",
    "\n",
    "tmp_batch_train = int(len(train_images)/batch)\n",
    "\n",
    "model.fit(train_images, train_labels, epochs=1)\n"
   ]
  },
  {
   "cell_type": "code",
   "execution_count": 23,
   "metadata": {},
   "outputs": [
    {
     "name": "stdout",
     "output_type": "stream",
     "text": [
      "10000/10000 - 3s - loss: 0.0482 - accuracy: 0.9859\n",
      "\n",
      "테스트 정확도: 0.9859\n"
     ]
    }
   ],
   "source": [
    "test_loss, test_acc = model.evaluate(test_images,  test_labels, verbose=2)\n",
    "\n",
    "print('\\n테스트 정확도:', test_acc)"
   ]
  },
  {
   "cell_type": "code",
   "execution_count": 24,
   "metadata": {},
   "outputs": [],
   "source": [
    "predictions = model.predict(test_images)"
   ]
  },
  {
   "cell_type": "code",
   "execution_count": 16,
   "metadata": {},
   "outputs": [
    {
     "data": {
      "text/plain": [
       "array([8.7407176e-13, 4.4898311e-08, 3.4882508e-08, 7.8317271e-08,\n",
       "       1.7498726e-08, 1.8597500e-13, 3.0422227e-19, 9.9999964e-01,\n",
       "       3.1765839e-09, 1.8099250e-07], dtype=float32)"
      ]
     },
     "execution_count": 16,
     "metadata": {},
     "output_type": "execute_result"
    }
   ],
   "source": [
    "predictions[0]"
   ]
  },
  {
   "cell_type": "code",
   "execution_count": 17,
   "metadata": {},
   "outputs": [],
   "source": [
    "keras.models.save_model(model, 'mnist_cnn_32_64_64.h5')"
   ]
  },
  {
   "cell_type": "code",
   "execution_count": null,
   "metadata": {},
   "outputs": [],
   "source": [
    "import tensorflow as tf\n",
    "import numpy as np\n",
    "import matplotlib.pyplot as plt\n",
    "\n",
    "# load mnist\n",
    "from tensorflow.examples.tutorials.mnist\n",
    "import input_data\n",
    "mnist = input_data.read_data_sets(\"MNIST_data/\", one_hot = True)\n",
    "\n",
    "# Tensorflow random angle rotation\n",
    "input_size = mnist.train.images.shape[1]\n",
    "side_size = int(np.sqrt(input_size))\n",
    "\n",
    "dataset = tf.placeholder(tf.float32, [None, input_size])\n",
    "images = tf.reshape(dataset, (-1, side_size, side_size, 1))\n",
    "random_angles = tf.random.uniform(shape = (tf.shape(images)[0], ), minval = -np\n",
    "    .pi / 4, maxval = np.pi / 4)\n",
    "\n",
    "rotated_images = tf.contrib.image.transform(\n",
    "    images,\n",
    "    tf.contrib.image.angles_to_projective_transforms(\n",
    "        random_angles, tf.cast(tf.shape(images)[1], tf.float32), tf.cast(tf\n",
    "            .shape(images)[2], tf.float32)\n",
    "    ))\n",
    "\n",
    "# Run and Print\n",
    "sess = tf.Session()\n",
    "result = sess.run(rotated_images, feed_dict = {\n",
    "    dataset: mnist.train.images,\n",
    "})\n",
    "\n",
    "original = np.reshape(mnist.train.images * 255, (-1, side_size, side_size)).astype(\n",
    "    np.uint8)\n",
    "rotated = np.reshape(result * 255, (-1, side_size, side_size)).astype(np.uint8)\n",
    "\n",
    "\n",
    "# Print 10 random samples\n",
    "fig, axes = plt.subplots(2, 10, figsize = (15, 4.5))\n",
    "choice = np.random.choice(range(len(mnist.test.labels)), 10)\n",
    "for k in range(10):\n",
    "    axes[0][k].set_axis_off()\n",
    "axes[0][k].imshow(original[choice[k, ]], interpolation = 'nearest', \\\n",
    "    cmap = 'gray')\n",
    "axes[1][k].set_axis_off()\n",
    "axes[1][k].imshow(rotated[choice[k, ]], interpolation = 'nearest', \\\n",
    "    cmap = 'gray')"
   ]
  },
  {
   "cell_type": "code",
   "execution_count": null,
   "metadata": {},
   "outputs": [],
   "source": []
  }
 ],
 "metadata": {
  "kernelspec": {
   "display_name": "Python 3",
   "language": "python",
   "name": "python3"
  },
  "language_info": {
   "codemirror_mode": {
    "name": "ipython",
    "version": 3
   },
   "file_extension": ".py",
   "mimetype": "text/x-python",
   "name": "python",
   "nbconvert_exporter": "python",
   "pygments_lexer": "ipython3",
   "version": "3.6.9"
  }
 },
 "nbformat": 4,
 "nbformat_minor": 4
}
