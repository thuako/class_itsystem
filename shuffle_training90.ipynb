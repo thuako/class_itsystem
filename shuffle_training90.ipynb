{
  "nbformat": 4,
  "nbformat_minor": 0,
  "metadata": {
    "colab": {
      "name": "shuffle_training90.ipynb",
      "provenance": [],
      "collapsed_sections": [],
      "authorship_tag": "ABX9TyPtWWs+J/NEYqOlWRuKOwn3",
      "include_colab_link": true
    },
    "kernelspec": {
      "name": "python3",
      "display_name": "Python 3"
    },
    "accelerator": "GPU"
  },
  "cells": [
    {
      "cell_type": "markdown",
      "metadata": {
        "id": "view-in-github",
        "colab_type": "text"
      },
      "source": [
        "<a href=\"https://colab.research.google.com/github/tjrgh822/class_itsystem/blob/master/shuffle_training90.ipynb\" target=\"_parent\"><img src=\"https://colab.research.google.com/assets/colab-badge.svg\" alt=\"Open In Colab\"/></a>"
      ]
    },
    {
      "cell_type": "code",
      "metadata": {
        "id": "01RCqOlgd2ZF",
        "colab_type": "code",
        "colab": {
          "base_uri": "https://localhost:8080/",
          "height": 53
        },
        "outputId": "1594c06a-420c-422b-c085-21828027dd0f"
      },
      "source": [
        "\n",
        "from __future__ import print_function\n",
        "import tensorflow as tf\n",
        "import numpy as np\n",
        "import tensorflow_addons as tfa\n",
        "import matplotlib.pyplot as plt\n",
        "from tensorflow import keras\n",
        "from tensorflow.keras.datasets import mnist\n",
        "from tensorflow import keras\n",
        "from tensorflow.keras import Model\n",
        "from tensorflow.keras.layers import Convolution2D, MaxPooling2D, Dropout, Flatten, Dense, Input\n",
        "from tensorflow.keras.layers import Conv2D, MaxPool2D, Dense, Dropout, Flatten, BatchNormalization\n",
        "from tensorflow.keras.models import Sequential\n",
        "from tensorflow.keras import backend as K\n",
        "\n",
        "from numpy import expand_dims\n",
        "from tensorflow.keras.preprocessing.image import load_img\n",
        "from tensorflow.keras.preprocessing.image import img_to_array\n",
        "from tensorflow.keras.preprocessing.image import ImageDataGenerator\n",
        "\n",
        "\n",
        "(x_train, y_train), (x_test, y_test) = mnist.load_data()\n",
        "\n",
        "\n",
        "datagen = ImageDataGenerator( width_shift_range=3, \n",
        "                             height_shift_range=3, \n",
        "                             horizontal_flip=True, \n",
        "                             vertical_flip=True,\n",
        "                             brightness_range = [0.2, 1.0],\n",
        "                             rotation_range = 90,\n",
        "                             zoom_range = [0.5, 1.0]\n",
        "                             )\n",
        "                             \n",
        "\n",
        "nodatagen = ImageDataGenerator()\n",
        "\n"
      ],
      "execution_count": 1,
      "outputs": [
        {
          "output_type": "stream",
          "text": [
            "Downloading data from https://storage.googleapis.com/tensorflow/tf-keras-datasets/mnist.npz\n",
            "11493376/11490434 [==============================] - 0s 0us/step\n"
          ],
          "name": "stdout"
        }
      ]
    },
    {
      "cell_type": "code",
      "metadata": {
        "id": "wg_Np91-nulZ",
        "colab_type": "code",
        "colab": {
          "base_uri": "https://localhost:8080/",
          "height": 127
        },
        "outputId": "917f26e6-8028-47de-cf9f-c4be81f36099"
      },
      "source": [
        "from google.colab import drive\n",
        "drive.mount('/content/drive')"
      ],
      "execution_count": 2,
      "outputs": [
        {
          "output_type": "stream",
          "text": [
            "Go to this URL in a browser: https://accounts.google.com/o/oauth2/auth?client_id=947318989803-6bn6qk8qdgf4n4g3pfee6491hc0brc4i.apps.googleusercontent.com&redirect_uri=urn%3aietf%3awg%3aoauth%3a2.0%3aoob&response_type=code&scope=email%20https%3a%2f%2fwww.googleapis.com%2fauth%2fdocs.test%20https%3a%2f%2fwww.googleapis.com%2fauth%2fdrive%20https%3a%2f%2fwww.googleapis.com%2fauth%2fdrive.photos.readonly%20https%3a%2f%2fwww.googleapis.com%2fauth%2fpeopleapi.readonly\n",
            "\n",
            "Enter your authorization code:\n",
            "··········\n",
            "Mounted at /content/drive\n"
          ],
          "name": "stdout"
        }
      ]
    },
    {
      "cell_type": "code",
      "metadata": {
        "id": "omIn21v-wEa8",
        "colab_type": "code",
        "colab": {
          "base_uri": "https://localhost:8080/",
          "height": 197
        },
        "outputId": "9ffed49d-52c5-48f5-eb37-1b514736be2a"
      },
      "source": [
        "x_train = np.load(\"/content/drive/My Drive/shuffledata_x+-45hard.npy\")\n",
        "y_train = np.load(\"/content/drive/My Drive/shuffledata_y+-45hard.npy\")\n",
        "y_train[0:10]"
      ],
      "execution_count": 3,
      "outputs": [
        {
          "output_type": "execute_result",
          "data": {
            "text/plain": [
              "array([[5.],\n",
              "       [0.],\n",
              "       [4.],\n",
              "       [1.],\n",
              "       [9.],\n",
              "       [2.],\n",
              "       [1.],\n",
              "       [3.],\n",
              "       [1.],\n",
              "       [4.]], dtype=float32)"
            ]
          },
          "metadata": {
            "tags": []
          },
          "execution_count": 3
        }
      ]
    },
    {
      "cell_type": "code",
      "metadata": {
        "id": "PcSJEwESIebN",
        "colab_type": "code",
        "colab": {
          "base_uri": "https://localhost:8080/",
          "height": 1000
        },
        "outputId": "8e2034da-fb90-4755-f09e-11f5ad1daf96"
      },
      "source": [
        "plt.figure(figsize=(10, 20))\n",
        "\n",
        "for i, x in enumerate(np.random.randint(0, 10000, 18)):\n",
        "  plt.subplot(6, 3, i+1)\n",
        "  plt.xlabel(np.argmax(y_train[x], axis=0), fontsize= 15)\n",
        "  plt.imshow(x_train[x].reshape(28, 28).astype(np.uint8))\n",
        "plt.show()\n"
      ],
      "execution_count": 4,
      "outputs": [
        {
          "output_type": "display_data",
          "data": {
            "image/png": "[encoded data removed]",
            "text/plain": [
              "<Figure size 720x1440 with 18 Axes>"
            ]
          },
          "metadata": {
            "tags": [],
            "needs_background": "light"
          }
        }
      ]
    },
    {
      "cell_type": "code",
      "metadata": {
        "id": "QUGJqvKdoCIH",
        "colab_type": "code",
        "colab": {}
      },
      "source": [
        "\n",
        "'''\n",
        "def onehotencoding(data, case):\n",
        "  encoding = np.eye(case)[data]\n",
        "  return encoding.reshape(-1, case)'''\n",
        "\n",
        "'''y_train = np.argmax(y_train, axis=1).reshape(-1, 1)\n",
        "y_train.shape\n",
        "argu_y_test = np.argmax(argu_y_test, axis=1).reshape(-1, 1)'''\n",
        "\n",
        "argu= datagen.flow(x_test.reshape(-1, 28, 28, 1), y_test, batch_size = x_test.shape[0], shuffle=False)\n",
        "\n",
        "argu_y_test = argu[0][1]\n",
        "argu_x_test = argu[0][0].reshape(-1, 28, 28, 1)\n",
        "\n",
        "# convert class vectors to binary class matrices\n",
        "y_train = keras.utils.to_categorical(y_train, 10)\n",
        "argu_y_test = keras.utils.to_categorical(argu_y_test,10)\n"
      ],
      "execution_count": 0,
      "outputs": []
    },
    {
      "cell_type": "code",
      "metadata": {
        "id": "_VjdnsjRr4BY",
        "colab_type": "code",
        "colab": {
          "base_uri": "https://localhost:8080/",
          "height": 53
        },
        "outputId": "a5cc5e13-cea1-44cd-cee4-2ae9bc45ab84"
      },
      "source": [
        "#argu_y_test = np.argmax(argu_y_test, axis=1).reshape(-1, 1)\n",
        "print(f\"{x_train.shape}, {y_train.shape}\\n{argu_x_test.shape}, {argu_y_test.shape}\")"
      ],
      "execution_count": 6,
      "outputs": [
        {
          "output_type": "stream",
          "text": [
            "(90000, 28, 28, 1), (90000, 10)\n",
            "(10000, 28, 28, 1), (10000, 10)\n"
          ],
          "name": "stdout"
        }
      ]
    },
    {
      "cell_type": "code",
      "metadata": {
        "id": "NITV4k6BJ-tQ",
        "colab_type": "code",
        "colab": {}
      },
      "source": [
        "print(np.argmax(y_train, axis=1).reshape(-1, 1))"
      ],
      "execution_count": 0,
      "outputs": []
    },
    {
      "cell_type": "code",
      "metadata": {
        "id": "SXoRQyPjeaU1",
        "colab_type": "code",
        "colab": {
          "base_uri": "https://localhost:8080/",
          "height": 737
        },
        "outputId": "6e1fb4fe-ae3d-40f8-a2a4-98b5393c4cdb"
      },
      "source": [
        "num_classes = 10\n",
        "\n",
        "# input image dimensions\n",
        "img_rows, img_cols = 28, 28\n",
        "\n",
        "# the data, split between train and test sets\n",
        "#(x_train, y_train), (x_test, y_test) = mnist.load_data()\n",
        "\n",
        "if K.image_data_format() == 'channels_first':\n",
        "    x_train = x_train.reshape(x_train.shape[0], 1, img_rows, img_cols)\n",
        "    argu_x_test = argu_x_test.reshape(x_test.shape[0], 1, img_rows, img_cols)\n",
        "    input_shape = (1, img_rows, img_cols)\n",
        "else:\n",
        "    x_train = x_train.reshape(x_train.shape[0], img_rows, img_cols, 1)\n",
        "    argu_x_test = argu_x_test.reshape(x_test.shape[0], img_rows, img_cols, 1)\n",
        "    input_shape = (img_rows, img_cols, 1)\n",
        "\n",
        "\n",
        "\n",
        "\n",
        "\n",
        "model = Sequential()\n",
        "\n",
        "# 1st Convolutional Layer\n",
        "model.add(Conv2D(filters=96, input_shape=(28,28,1), kernel_size=(11,11), padding=\"valid\", activation = \"relu\"))\n",
        "# Max Pooling\n",
        "model.add(MaxPool2D(pool_size=(3,3), strides=(2,2), padding=\"valid\"))\n",
        "model.add(BatchNormalization())\n",
        "model.add(Dropout(0.3))\n",
        "\n",
        "# 2nd Convolutional Layer\n",
        "model.add(Conv2D(filters=256, kernel_size=(5,5), strides=(1,1), padding=\"same\", activation = \"relu\"))\n",
        "# Max Pooling\n",
        "model.add(MaxPool2D(pool_size=(3,3), strides=(2,2), padding=\"valid\"))\n",
        "model.add(BatchNormalization())\n",
        "model.add(Dropout(0.3))\n",
        "\n",
        "\n",
        "# Passing it to a Fully Connected layer\n",
        "model.add(Flatten())\n",
        "# 1st Fully Connected Layer\n",
        "model.add(Dense(units = 2048, activation = \"relu\"))\n",
        "model.add(BatchNormalization())\n",
        "model.add(Dropout(0.3))\n",
        "\n",
        "\n",
        "# 3rd Fully Connected Layer\n",
        "model.add(Dense(1024, activation = \"relu\"))\n",
        "model.add(BatchNormalization())\n",
        "model.add(Dropout(0.3))\n",
        "\n",
        "# Output Layer\n",
        "model.add(Dense(10, activation = \"softmax\")) #As we have two classes\n",
        "\n",
        "model.compile(loss=keras.losses.categorical_crossentropy,\n",
        "              optimizer='Adam',\n",
        "              metrics=['accuracy'])\n",
        "\n",
        "model.summary()\n"
      ],
      "execution_count": 7,
      "outputs": [
        {
          "output_type": "stream",
          "text": [
            "Model: \"sequential\"\n",
            "_________________________________________________________________\n",
            "Layer (type)                 Output Shape              Param #   \n",
            "=================================================================\n",
            "conv2d (Conv2D)              (None, 18, 18, 96)        11712     \n",
            "_________________________________________________________________\n",
            "max_pooling2d (MaxPooling2D) (None, 8, 8, 96)          0         \n",
            "_________________________________________________________________\n",
            "batch_normalization (BatchNo (None, 8, 8, 96)          384       \n",
            "_________________________________________________________________\n",
            "dropout (Dropout)            (None, 8, 8, 96)          0         \n",
            "_________________________________________________________________\n",
            "conv2d_1 (Conv2D)            (None, 8, 8, 256)         614656    \n",
            "_________________________________________________________________\n",
            "max_pooling2d_1 (MaxPooling2 (None, 3, 3, 256)         0         \n",
            "_________________________________________________________________\n",
            "batch_normalization_1 (Batch (None, 3, 3, 256)         1024      \n",
            "_________________________________________________________________\n",
            "dropout_1 (Dropout)          (None, 3, 3, 256)         0         \n",
            "_________________________________________________________________\n",
            "flatten (Flatten)            (None, 2304)              0         \n",
            "_________________________________________________________________\n",
            "dense (Dense)                (None, 2048)              4720640   \n",
            "_________________________________________________________________\n",
            "batch_normalization_2 (Batch (None, 2048)              8192      \n",
            "_________________________________________________________________\n",
            "dropout_2 (Dropout)          (None, 2048)              0         \n",
            "_________________________________________________________________\n",
            "dense_1 (Dense)              (None, 1024)              2098176   \n",
            "_________________________________________________________________\n",
            "batch_normalization_3 (Batch (None, 1024)              4096      \n",
            "_________________________________________________________________\n",
            "dropout_3 (Dropout)          (None, 1024)              0         \n",
            "_________________________________________________________________\n",
            "dense_2 (Dense)              (None, 10)                10250     \n",
            "=================================================================\n",
            "Total params: 7,469,130\n",
            "Trainable params: 7,462,282\n",
            "Non-trainable params: 6,848\n",
            "_________________________________________________________________\n"
          ],
          "name": "stdout"
        }
      ]
    },
    {
      "cell_type": "code",
      "metadata": {
        "id": "8c-TMtrpeU8U",
        "colab_type": "code",
        "colab": {
          "base_uri": "https://localhost:8080/",
          "height": 1000
        },
        "outputId": "7251757d-5d6b-4069-b6d1-bea6174b0dc2"
      },
      "source": [
        "\n",
        "from tensorflow.keras.callbacks import ModelCheckpoint, TensorBoard, EarlyStopping, LearningRateScheduler\n",
        "\n",
        "def scheduler(epoch):\n",
        "  if epoch < 10:\n",
        "    return 0.0001\n",
        "  else:\n",
        "    return 0.0001 * tf.math.exp(0.1 * (5 - epoch)/1.4)\n",
        "\n",
        "Lschedule = LearningRateScheduler(scheduler)\n",
        "\n",
        "batch_size = 100\n",
        "epochs = 30\n",
        "\n",
        "checkpointer = ModelCheckpoint(\n",
        "    filepath='model_8.h5',\n",
        "    save_best_only=True\n",
        ")\n",
        "early_stopping = EarlyStopping(patience=2)\n",
        "\n",
        "callbacks=[checkpointer, early_stopping, Lschedule]\n",
        "\n",
        "model.fit(datagen.flow(x_train, y_train, batch_size=batch_size),\n",
        "          steps_per_epoch = x_train.shape[0]/ batch_size,\n",
        "          epochs=epochs,\n",
        "          verbose=1,\n",
        "          validation_data=(argu_x_test, argu_y_test),\n",
        "          validation_steps = y_train.shape[0],\n",
        "          callbacks= callbacks\n",
        "          )\n",
        "\n",
        "#score = model.evaluate(x_test, y_test, verbose=0)"
      ],
      "execution_count": 8,
      "outputs": [
        {
          "output_type": "stream",
          "text": [
            "Epoch 1/30\n",
            "899/900 [============================>.] - ETA: 0s - loss: 2.2699 - accuracy: 0.2922WARNING:tensorflow:Your input ran out of data; interrupting training. Make sure that your dataset or generator can generate at least `steps_per_epoch * epochs` batches (in this case, 90000 batches). You may need to use the repeat() function when building your dataset.\n",
            "900/900 [==============================] - 67s 75ms/step - loss: 2.2696 - accuracy: 0.2923 - val_loss: 1.6426 - val_accuracy: 0.4249 - lr: 1.0000e-04\n",
            "Epoch 2/30\n",
            "899/900 [============================>.] - ETA: 0s - loss: 1.7941 - accuracy: 0.4038WARNING:tensorflow:Your input ran out of data; interrupting training. Make sure that your dataset or generator can generate at least `steps_per_epoch * epochs` batches (in this case, 90000 batches). You may need to use the repeat() function when building your dataset.\n",
            "900/900 [==============================] - 67s 75ms/step - loss: 1.7940 - accuracy: 0.4038 - val_loss: 1.2014 - val_accuracy: 0.5792 - lr: 1.0000e-04\n",
            "Epoch 3/30\n",
            "900/900 [==============================] - ETA: 0s - loss: 1.5559 - accuracy: 0.4777WARNING:tensorflow:Your input ran out of data; interrupting training. Make sure that your dataset or generator can generate at least `steps_per_epoch * epochs` batches (in this case, 90000 batches). You may need to use the repeat() function when building your dataset.\n",
            "900/900 [==============================] - 66s 73ms/step - loss: 1.5559 - accuracy: 0.4777 - val_loss: 1.0279 - val_accuracy: 0.6448 - lr: 1.0000e-04\n",
            "Epoch 4/30\n",
            "899/900 [============================>.] - ETA: 0s - loss: 1.3954 - accuracy: 0.5298WARNING:tensorflow:Your input ran out of data; interrupting training. Make sure that your dataset or generator can generate at least `steps_per_epoch * epochs` batches (in this case, 90000 batches). You may need to use the repeat() function when building your dataset.\n",
            "900/900 [==============================] - 65s 72ms/step - loss: 1.3952 - accuracy: 0.5298 - val_loss: 0.8524 - val_accuracy: 0.7146 - lr: 1.0000e-04\n",
            "Epoch 5/30\n",
            "900/900 [==============================] - ETA: 0s - loss: 1.2774 - accuracy: 0.5700WARNING:tensorflow:Your input ran out of data; interrupting training. Make sure that your dataset or generator can generate at least `steps_per_epoch * epochs` batches (in this case, 90000 batches). You may need to use the repeat() function when building your dataset.\n",
            "900/900 [==============================] - 64s 71ms/step - loss: 1.2774 - accuracy: 0.5700 - val_loss: 0.8101 - val_accuracy: 0.7289 - lr: 1.0000e-04\n",
            "Epoch 6/30\n",
            "899/900 [============================>.] - ETA: 0s - loss: 1.1859 - accuracy: 0.6025WARNING:tensorflow:Your input ran out of data; interrupting training. Make sure that your dataset or generator can generate at least `steps_per_epoch * epochs` batches (in this case, 90000 batches). You may need to use the repeat() function when building your dataset.\n",
            "900/900 [==============================] - 65s 72ms/step - loss: 1.1856 - accuracy: 0.6026 - val_loss: 0.6914 - val_accuracy: 0.7707 - lr: 1.0000e-04\n",
            "Epoch 7/30\n",
            "899/900 [============================>.] - ETA: 0s - loss: 1.1171 - accuracy: 0.6243WARNING:tensorflow:Your input ran out of data; interrupting training. Make sure that your dataset or generator can generate at least `steps_per_epoch * epochs` batches (in this case, 90000 batches). You may need to use the repeat() function when building your dataset.\n",
            "900/900 [==============================] - 64s 71ms/step - loss: 1.1170 - accuracy: 0.6244 - val_loss: 0.6490 - val_accuracy: 0.7859 - lr: 1.0000e-04\n",
            "Epoch 8/30\n",
            "900/900 [==============================] - ETA: 0s - loss: 1.0561 - accuracy: 0.6473WARNING:tensorflow:Your input ran out of data; interrupting training. Make sure that your dataset or generator can generate at least `steps_per_epoch * epochs` batches (in this case, 90000 batches). You may need to use the repeat() function when building your dataset.\n",
            "900/900 [==============================] - 63s 70ms/step - loss: 1.0561 - accuracy: 0.6473 - val_loss: 0.5813 - val_accuracy: 0.8067 - lr: 1.0000e-04\n",
            "Epoch 9/30\n",
            "900/900 [==============================] - ETA: 0s - loss: 1.0069 - accuracy: 0.6636WARNING:tensorflow:Your input ran out of data; interrupting training. Make sure that your dataset or generator can generate at least `steps_per_epoch * epochs` batches (in this case, 90000 batches). You may need to use the repeat() function when building your dataset.\n",
            "900/900 [==============================] - 63s 70ms/step - loss: 1.0069 - accuracy: 0.6636 - val_loss: 0.5474 - val_accuracy: 0.8210 - lr: 1.0000e-04\n",
            "Epoch 10/30\n",
            "900/900 [==============================] - ETA: 0s - loss: 0.9720 - accuracy: 0.6762WARNING:tensorflow:Your input ran out of data; interrupting training. Make sure that your dataset or generator can generate at least `steps_per_epoch * epochs` batches (in this case, 90000 batches). You may need to use the repeat() function when building your dataset.\n",
            "900/900 [==============================] - 62s 69ms/step - loss: 0.9720 - accuracy: 0.6762 - val_loss: 0.5114 - val_accuracy: 0.8299 - lr: 1.0000e-04\n",
            "Epoch 11/30\n",
            "900/900 [==============================] - ETA: 0s - loss: 0.9243 - accuracy: 0.6920WARNING:tensorflow:Your input ran out of data; interrupting training. Make sure that your dataset or generator can generate at least `steps_per_epoch * epochs` batches (in this case, 90000 batches). You may need to use the repeat() function when building your dataset.\n",
            "900/900 [==============================] - 63s 70ms/step - loss: 0.9243 - accuracy: 0.6920 - val_loss: 0.4581 - val_accuracy: 0.8498 - lr: 6.9967e-05\n",
            "Epoch 12/30\n",
            "900/900 [==============================] - ETA: 0s - loss: 0.8937 - accuracy: 0.6997WARNING:tensorflow:Your input ran out of data; interrupting training. Make sure that your dataset or generator can generate at least `steps_per_epoch * epochs` batches (in this case, 90000 batches). You may need to use the repeat() function when building your dataset.\n",
            "900/900 [==============================] - 63s 70ms/step - loss: 0.8937 - accuracy: 0.6997 - val_loss: 0.4568 - val_accuracy: 0.8501 - lr: 6.5144e-05\n",
            "Epoch 13/30\n",
            "899/900 [============================>.] - ETA: 0s - loss: 0.8669 - accuracy: 0.7102WARNING:tensorflow:Your input ran out of data; interrupting training. Make sure that your dataset or generator can generate at least `steps_per_epoch * epochs` batches (in this case, 90000 batches). You may need to use the repeat() function when building your dataset.\n",
            "900/900 [==============================] - 62s 69ms/step - loss: 0.8669 - accuracy: 0.7103 - val_loss: 0.4205 - val_accuracy: 0.8631 - lr: 6.0653e-05\n",
            "Epoch 14/30\n",
            "900/900 [==============================] - ETA: 0s - loss: 0.8501 - accuracy: 0.7183WARNING:tensorflow:Your input ran out of data; interrupting training. Make sure that your dataset or generator can generate at least `steps_per_epoch * epochs` batches (in this case, 90000 batches). You may need to use the repeat() function when building your dataset.\n",
            "900/900 [==============================] - 62s 69ms/step - loss: 0.8501 - accuracy: 0.7183 - val_loss: 0.4175 - val_accuracy: 0.8637 - lr: 5.6472e-05\n",
            "Epoch 15/30\n",
            "899/900 [============================>.] - ETA: 0s - loss: 0.8339 - accuracy: 0.7229WARNING:tensorflow:Your input ran out of data; interrupting training. Make sure that your dataset or generator can generate at least `steps_per_epoch * epochs` batches (in this case, 90000 batches). You may need to use the repeat() function when building your dataset.\n",
            "900/900 [==============================] - 62s 69ms/step - loss: 0.8340 - accuracy: 0.7228 - val_loss: 0.4108 - val_accuracy: 0.8683 - lr: 5.2579e-05\n",
            "Epoch 16/30\n",
            "899/900 [============================>.] - ETA: 0s - loss: 0.8112 - accuracy: 0.7295WARNING:tensorflow:Your input ran out of data; interrupting training. Make sure that your dataset or generator can generate at least `steps_per_epoch * epochs` batches (in this case, 90000 batches). You may need to use the repeat() function when building your dataset.\n",
            "900/900 [==============================] - 62s 69ms/step - loss: 0.8113 - accuracy: 0.7295 - val_loss: 0.3849 - val_accuracy: 0.8739 - lr: 4.8954e-05\n",
            "Epoch 17/30\n",
            "899/900 [============================>.] - ETA: 0s - loss: 0.7974 - accuracy: 0.7346WARNING:tensorflow:Your input ran out of data; interrupting training. Make sure that your dataset or generator can generate at least `steps_per_epoch * epochs` batches (in this case, 90000 batches). You may need to use the repeat() function when building your dataset.\n",
            "900/900 [==============================] - 62s 68ms/step - loss: 0.7973 - accuracy: 0.7347 - val_loss: 0.3762 - val_accuracy: 0.8791 - lr: 4.5579e-05\n",
            "Epoch 18/30\n",
            "899/900 [============================>.] - ETA: 0s - loss: 0.7890 - accuracy: 0.7360WARNING:tensorflow:Your input ran out of data; interrupting training. Make sure that your dataset or generator can generate at least `steps_per_epoch * epochs` batches (in this case, 90000 batches). You may need to use the repeat() function when building your dataset.\n",
            "900/900 [==============================] - 61s 68ms/step - loss: 0.7889 - accuracy: 0.7361 - val_loss: 0.3637 - val_accuracy: 0.8848 - lr: 4.2437e-05\n",
            "Epoch 19/30\n",
            "899/900 [============================>.] - ETA: 0s - loss: 0.7743 - accuracy: 0.7419WARNING:tensorflow:Your input ran out of data; interrupting training. Make sure that your dataset or generator can generate at least `steps_per_epoch * epochs` batches (in this case, 90000 batches). You may need to use the repeat() function when building your dataset.\n",
            "900/900 [==============================] - 61s 67ms/step - loss: 0.7743 - accuracy: 0.7419 - val_loss: 0.3511 - val_accuracy: 0.8876 - lr: 3.9512e-05\n",
            "Epoch 20/30\n",
            "900/900 [==============================] - ETA: 0s - loss: 0.7662 - accuracy: 0.7461WARNING:tensorflow:Your input ran out of data; interrupting training. Make sure that your dataset or generator can generate at least `steps_per_epoch * epochs` batches (in this case, 90000 batches). You may need to use the repeat() function when building your dataset.\n",
            "900/900 [==============================] - 61s 68ms/step - loss: 0.7662 - accuracy: 0.7461 - val_loss: 0.3552 - val_accuracy: 0.8851 - lr: 3.6788e-05\n",
            "Epoch 21/30\n",
            "899/900 [============================>.] - ETA: 0s - loss: 0.7590 - accuracy: 0.7472WARNING:tensorflow:Your input ran out of data; interrupting training. Make sure that your dataset or generator can generate at least `steps_per_epoch * epochs` batches (in this case, 90000 batches). You may need to use the repeat() function when building your dataset.\n",
            "900/900 [==============================] - 62s 69ms/step - loss: 0.7591 - accuracy: 0.7472 - val_loss: 0.3492 - val_accuracy: 0.8852 - lr: 3.4252e-05\n",
            "Epoch 22/30\n",
            "900/900 [==============================] - ETA: 0s - loss: 0.7477 - accuracy: 0.7518WARNING:tensorflow:Your input ran out of data; interrupting training. Make sure that your dataset or generator can generate at least `steps_per_epoch * epochs` batches (in this case, 90000 batches). You may need to use the repeat() function when building your dataset.\n",
            "900/900 [==============================] - 61s 68ms/step - loss: 0.7477 - accuracy: 0.7518 - val_loss: 0.3416 - val_accuracy: 0.8890 - lr: 3.1891e-05\n",
            "Epoch 23/30\n",
            "899/900 [============================>.] - ETA: 0s - loss: 0.7373 - accuracy: 0.7562WARNING:tensorflow:Your input ran out of data; interrupting training. Make sure that your dataset or generator can generate at least `steps_per_epoch * epochs` batches (in this case, 90000 batches). You may need to use the repeat() function when building your dataset.\n",
            "900/900 [==============================] - 61s 68ms/step - loss: 0.7373 - accuracy: 0.7562 - val_loss: 0.3357 - val_accuracy: 0.8911 - lr: 2.9692e-05\n",
            "Epoch 24/30\n",
            "900/900 [==============================] - ETA: 0s - loss: 0.7352 - accuracy: 0.7565WARNING:tensorflow:Your input ran out of data; interrupting training. Make sure that your dataset or generator can generate at least `steps_per_epoch * epochs` batches (in this case, 90000 batches). You may need to use the repeat() function when building your dataset.\n",
            "900/900 [==============================] - 61s 68ms/step - loss: 0.7352 - accuracy: 0.7565 - val_loss: 0.3303 - val_accuracy: 0.8910 - lr: 2.7645e-05\n",
            "Epoch 25/30\n",
            "900/900 [==============================] - ETA: 0s - loss: 0.7250 - accuracy: 0.7589WARNING:tensorflow:Your input ran out of data; interrupting training. Make sure that your dataset or generator can generate at least `steps_per_epoch * epochs` batches (in this case, 90000 batches). You may need to use the repeat() function when building your dataset.\n",
            "900/900 [==============================] - 61s 68ms/step - loss: 0.7250 - accuracy: 0.7589 - val_loss: 0.3258 - val_accuracy: 0.8939 - lr: 2.5740e-05\n",
            "Epoch 26/30\n",
            "900/900 [==============================] - ETA: 0s - loss: 0.7204 - accuracy: 0.7610WARNING:tensorflow:Your input ran out of data; interrupting training. Make sure that your dataset or generator can generate at least `steps_per_epoch * epochs` batches (in this case, 90000 batches). You may need to use the repeat() function when building your dataset.\n",
            "900/900 [==============================] - 62s 69ms/step - loss: 0.7204 - accuracy: 0.7610 - val_loss: 0.3269 - val_accuracy: 0.8933 - lr: 2.3965e-05\n",
            "Epoch 27/30\n",
            "900/900 [==============================] - ETA: 0s - loss: 0.7154 - accuracy: 0.7613WARNING:tensorflow:Your input ran out of data; interrupting training. Make sure that your dataset or generator can generate at least `steps_per_epoch * epochs` batches (in this case, 90000 batches). You may need to use the repeat() function when building your dataset.\n",
            "900/900 [==============================] - 62s 69ms/step - loss: 0.7154 - accuracy: 0.7613 - val_loss: 0.3135 - val_accuracy: 0.8968 - lr: 2.2313e-05\n",
            "Epoch 28/30\n",
            "899/900 [============================>.] - ETA: 0s - loss: 0.7101 - accuracy: 0.7637WARNING:tensorflow:Your input ran out of data; interrupting training. Make sure that your dataset or generator can generate at least `steps_per_epoch * epochs` batches (in this case, 90000 batches). You may need to use the repeat() function when building your dataset.\n",
            "900/900 [==============================] - 61s 68ms/step - loss: 0.7101 - accuracy: 0.7637 - val_loss: 0.3094 - val_accuracy: 0.8983 - lr: 2.0775e-05\n",
            "Epoch 29/30\n",
            "900/900 [==============================] - ETA: 0s - loss: 0.7058 - accuracy: 0.7664WARNING:tensorflow:Your input ran out of data; interrupting training. Make sure that your dataset or generator can generate at least `steps_per_epoch * epochs` batches (in this case, 90000 batches). You may need to use the repeat() function when building your dataset.\n",
            "900/900 [==============================] - 61s 68ms/step - loss: 0.7058 - accuracy: 0.7664 - val_loss: 0.3075 - val_accuracy: 0.9000 - lr: 1.9343e-05\n",
            "Epoch 30/30\n",
            "899/900 [============================>.] - ETA: 0s - loss: 0.7035 - accuracy: 0.7656WARNING:tensorflow:Your input ran out of data; interrupting training. Make sure that your dataset or generator can generate at least `steps_per_epoch * epochs` batches (in this case, 90000 batches). You may need to use the repeat() function when building your dataset.\n",
            "900/900 [==============================] - 61s 67ms/step - loss: 0.7034 - accuracy: 0.7656 - val_loss: 0.3097 - val_accuracy: 0.8979 - lr: 1.8009e-05\n"
          ],
          "name": "stdout"
        },
        {
          "output_type": "execute_result",
          "data": {
            "text/plain": [
              "<tensorflow.python.keras.callbacks.History at 0x7f5425838d68>"
            ]
          },
          "metadata": {
            "tags": []
          },
          "execution_count": 8
        }
      ]
    },
    {
      "cell_type": "code",
      "metadata": {
        "id": "0aPe-B2E0jp6",
        "colab_type": "code",
        "colab": {}
      },
      "source": [
        "from tensorflow.keras.callbacks import ModelCheckpoint, TensorBoard, EarlyStopping, LearningRateScheduler\n",
        "\n"
      ],
      "execution_count": 0,
      "outputs": []
    },
    {
      "cell_type": "markdown",
      "metadata": {
        "id": "nbZ7_NvYO_-v",
        "colab_type": "text"
      },
      "source": [
        ""
      ]
    },
    {
      "cell_type": "code",
      "metadata": {
        "id": "5k43OvPRiW_l",
        "colab_type": "code",
        "colab": {}
      },
      "source": [
        "!ls"
      ],
      "execution_count": 0,
      "outputs": []
    },
    {
      "cell_type": "code",
      "metadata": {
        "id": "ZPTDGr62iXiJ",
        "colab_type": "code",
        "colab": {
          "base_uri": "https://localhost:8080/",
          "height": 485
        },
        "outputId": "f038f39b-3252-4903-c17a-87f2895b87ab"
      },
      "source": [
        "from keras.models import load_model\n",
        "\n",
        "model.save('model_8.h5')\n",
        "\n",
        "from google.colab import files\n",
        "files.download('model_8.h5')"
      ],
      "execution_count": 9,
      "outputs": [
        {
          "output_type": "stream",
          "text": [
            "Using TensorFlow backend.\n",
            "----------------------------------------\n",
            "Exception happened during processing of request from ('::ffff:127.0.0.1', 51690, 0, 0)\n",
            "Traceback (most recent call last):\n",
            "  File \"/usr/lib/python3.6/socketserver.py\", line 320, in _handle_request_noblock\n",
            "    self.process_request(request, client_address)\n",
            "  File \"/usr/lib/python3.6/socketserver.py\", line 351, in process_request\n",
            "    self.finish_request(request, client_address)\n",
            "  File \"/usr/lib/python3.6/socketserver.py\", line 364, in finish_request\n",
            "    self.RequestHandlerClass(request, client_address, self)\n",
            "  File \"/usr/lib/python3.6/socketserver.py\", line 724, in __init__\n",
            "    self.handle()\n",
            "  File \"/usr/lib/python3.6/http/server.py\", line 418, in handle\n",
            "    self.handle_one_request()\n",
            "  File \"/usr/lib/python3.6/http/server.py\", line 406, in handle_one_request\n",
            "    method()\n",
            "  File \"/usr/lib/python3.6/http/server.py\", line 639, in do_GET\n",
            "    self.copyfile(f, self.wfile)\n",
            "  File \"/usr/lib/python3.6/http/server.py\", line 800, in copyfile\n",
            "    shutil.copyfileobj(source, outputfile)\n",
            "  File \"/usr/lib/python3.6/shutil.py\", line 82, in copyfileobj\n",
            "    fdst.write(buf)\n",
            "  File \"/usr/lib/python3.6/socketserver.py\", line 803, in write\n",
            "    self._sock.sendall(b)\n",
            "ConnectionResetError: [Errno 104] Connection reset by peer\n",
            "----------------------------------------\n"
          ],
          "name": "stderr"
        }
      ]
    },
    {
      "cell_type": "code",
      "metadata": {
        "id": "VregN080jGKG",
        "colab_type": "code",
        "colab": {}
      },
      "source": [
        ""
      ],
      "execution_count": 0,
      "outputs": []
    }
  ]
}