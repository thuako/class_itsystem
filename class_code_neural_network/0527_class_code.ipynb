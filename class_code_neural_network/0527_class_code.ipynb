{
  "nbformat": 4,
  "nbformat_minor": 0,
  "metadata": {
    "colab": {
      "name": "0527 class code",
      "provenance": [],
      "private_outputs": true,
      "authorship_tag": "ABX9TyNeM6olF4YV4bhgGhKODDua",
      "include_colab_link": true
    },
    "kernelspec": {
      "name": "python3",
      "display_name": "Python 3"
    }
  },
  "cells": [
    {
      "cell_type": "markdown",
      "metadata": {
        "id": "view-in-github",
        "colab_type": "text"
      },
      "source": [
        "<a href=\"https://colab.research.google.com/github/tjrgh822/class_itsystem/blob/master/class_code_neural_network/0527_class_code.ipynb\" target=\"_parent\"><img src=\"https://colab.research.google.com/assets/colab-badge.svg\" alt=\"Open In Colab\"/></a>"
      ]
    },
    {
      "cell_type": "code",
      "metadata": {
        "id": "RmOPgXw05VGM",
        "colab_type": "code",
        "colab": {}
      },
      "source": [
        "%tensorflow_version 1.x"
      ],
      "execution_count": 0,
      "outputs": []
    },
    {
      "cell_type": "code",
      "metadata": {
        "id": "Vfo1ZLMa47aa",
        "colab_type": "code",
        "colab": {}
      },
      "source": [
        "import torch\n",
        "import torchvision.transforms as transforms\n",
        "\n",
        "\n",
        "x = torch.randn(4,4)\n",
        "y = x.view(16)\n",
        "z = x.view(-1, 8)\n",
        "\n",
        "print(x.size(), y.size(), z.size())\n",
        "\n",
        "a = torch.ones(5)\n",
        "b = a.numpy()\n",
        "print(a, \"\\n\", b)\n",
        "\n",
        "a = np.ones(5)\n",
        "b = torch.from_numpy(a)\n",
        "np.add(a, 1, out=a)\n",
        "print(a)\n",
        "print(b)\n",
        "\n",
        "\n"
      ],
      "execution_count": 0,
      "outputs": []
    },
    {
      "cell_type": "code",
      "metadata": {
        "id": "ni-0cnoNCMJa",
        "colab_type": "code",
        "colab": {}
      },
      "source": [
        "t = torch.arange(12).reshape(3, 4)\n",
        "t2 = t.reshape(2, 6)\n",
        "t2[0][0] = 100\n",
        "print(t, t2)\n",
        "\n",
        "t3 = t.clone()\n",
        "t3[0][0] = 0\n",
        "print(t3, t)\n"
      ],
      "execution_count": 0,
      "outputs": []
    },
    {
      "cell_type": "code",
      "metadata": {
        "id": "yD0RZNKUCda5",
        "colab_type": "code",
        "colab": {}
      },
      "source": [
        "x1 = torch.tensor(2, requires_grad=True, dtype=torch.float32)\n",
        "x2 = torch.tensor(3, requires_grad=True, dtype=torch.float32)\n",
        "x3 = torch.tensor(1, requires_grad=True, dtype=torch.float32)\n",
        "x4 = torch.tensor(4, requires_grad=True, dtype=torch.float32)\n",
        "z1 = x1 * x2\n",
        "z2 = x3 * x4\n",
        "f = z1 + z2\n",
        "method = 3\n",
        "if (method == 1):\n",
        "  df_dx = autograd.grad(outputs=f, inputs=[x1, x2, x3, x4])\n",
        "  print(df_dx)\n",
        "elif (method == 2):\n",
        "  f.backward()\n",
        "  print(x1.grad, x2.grad, x3.grad, x4.grad)\n",
        "elif (method == 3):\n",
        "  with torch.no_grad():\n",
        "    print(f.backward())\n",
        "  with torch.enable_grad():\n",
        "    z1 = x1 * x2\n",
        "    z2 = x3 * x4\n",
        "    f = z1 + z2\n",
        "    print(f.requires_grad)"
      ],
      "execution_count": 0,
      "outputs": []
    },
    {
      "cell_type": "code",
      "metadata": {
        "id": "ZnwwFIItEZar",
        "colab_type": "code",
        "colab": {}
      },
      "source": [
        "###############################**************\n",
        "import numpy as np\n",
        "a_ref = -1.5\n",
        "b_ref = 8\n",
        "noise = 0.2 * np.random.randn(50)\n",
        "x = np.linspace(1,4,50)\n",
        "y = a_ref*x + b_ref + noise\n",
        "\n",
        "def MSE_loss(prediction, target):\n",
        "  return ( prediction - target).pow(2).mean()\n",
        "\n",
        "xx = torch.tensor(x, dtype=torch.float32)\n",
        "yy = torch.tensor(y, dtype=torch.float32)\n",
        "a = torch.tensor(0, requires_grad = True, dtype=torch.float32)\n",
        "b = torch.tensor(0, requires_grad = True, dtype=torch.float32)\n",
        "\n",
        "number_of_epochs = 5000\n",
        "learning_rate = 0.01\n",
        "for iteration in range(number_of_epochs):\n",
        "  y_pred = a*xx + b\n",
        "  loss = MSE_loss(y_pred, yy)\n",
        "  loss.backward()\n",
        "  with torch.no_grad():\n",
        "    a = a - learning_rate * a.grad\n",
        "    b = b - learning_rate * b.grad\n",
        "  a.requires_grad = True\n",
        "  b.requires_grad = True\n",
        "print(a)\n",
        "print(b)\n"
      ],
      "execution_count": 0,
      "outputs": []
    },
    {
      "cell_type": "code",
      "metadata": {
        "id": "Pym2oHPoHpDg",
        "colab_type": "code",
        "colab": {}
      },
      "source": [
        ""
      ],
      "execution_count": 0,
      "outputs": []
    }
  ]
}